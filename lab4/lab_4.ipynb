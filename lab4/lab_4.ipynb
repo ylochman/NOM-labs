{
 "cells": [
  {
   "cell_type": "code",
   "execution_count": 1,
   "metadata": {
    "collapsed": false
   },
   "outputs": [],
   "source": [
    "%matplotlib inline\n",
    "import numpy as np\n",
    "from math import sqrt\n",
    "from numpy.linalg import norm\n",
    "from scipy.optimize import minimize\n",
    "import matplotlib.pyplot as plt\n",
    "from mpl_toolkits.mplot3d import axes3d"
   ]
  },
  {
   "cell_type": "code",
   "execution_count": 2,
   "metadata": {
    "collapsed": false
   },
   "outputs": [],
   "source": [
    "def visualize(a,b,c):\n",
    "    ax = axes3d.Axes3D(plt.figure())\n",
    "    u = np.linspace(0, 2*np.pi, 100)\n",
    "    v = np.linspace(0, np.pi, 100)\n",
    "    x = a * np.outer(np.cos(u), np.sin(v))\n",
    "    y = b * np.outer(np.sin(u), np.sin(v))\n",
    "    z = b * np.outer(np.ones(np.size(u)), np.cos(v))\n",
    "    ax.plot_surface(x, y, z,  rstride=4, cstride=4)\n",
    "    plt.show()\n",
    "    return 0"
   ]
  },
  {
   "cell_type": "code",
   "execution_count": 3,
   "metadata": {
    "collapsed": true
   },
   "outputs": [],
   "source": [
    "### SETTINGS\n",
    "MAX_COUNT_ITER = 1000\n",
    "EPS = 10**(-5)\n",
    "DIM = 3\n",
    "h = np.array([0.001, 0.001, 0.001], dtype = float)\n",
    "\n",
    "###CONSTRAINTS for ellipsoid x^2/a^2 + y^2/b^2 + z^2/c^2 <= 1\n",
    "A = 3.0   #actually it's a^2\n",
    "B = 2.0   #actually it's b^2\n",
    "C = 1.0   #actually it's c^2\n",
    "\n",
    "### TARGET FUNCTIONS\n",
    "f_type = 'nonquadratic'\n",
    "if (f_type == 'quadratic'):\n",
    "    A = np.array([[2, 0.001], [0.001, 8]], dtype = float)\n",
    "    b = np.array([0, -1], dtype = float)\n",
    "\n",
    "def f_myvar(x):\n",
    "    return x[0]**2 + 4.0 * x[1]**2 + 0.01 * x[0] * x[1] - x[1]\n",
    "\n",
    "def f_test(x):\n",
    "    return x[0]**2 + 4.0 * x[1]**2 + 0.01 * x[0] * x[1] - x[1]\n",
    "\n",
    "f = f_test\n",
    "x0 = np.array([-2, -3, -7], dtype = float)"
   ]
  },
  {
   "cell_type": "code",
   "execution_count": 4,
   "metadata": {
    "collapsed": false
   },
   "outputs": [
    {
     "ename": "SyntaxError",
     "evalue": "EOL while scanning string literal (<ipython-input-4-8891d2aa59ff>, line 13)",
     "output_type": "error",
     "traceback": [
      "\u001b[0;36m  File \u001b[0;32m\"<ipython-input-4-8891d2aa59ff>\"\u001b[0;36m, line \u001b[0;32m13\u001b[0m\n\u001b[0;31m    \"\"\"\"\u001b[0m\n\u001b[0m        \n^\u001b[0m\n\u001b[0;31mSyntaxError\u001b[0m\u001b[0;31m:\u001b[0m EOL while scanning string literal\n"
     ]
    }
   ],
   "source": [
    "def df1(f,x,h):\n",
    "    return (f([x[0] + h, x[1]]) - f([x[0] - h, x[1]])) / (2.0 * h)\n",
    "def df2(f,x,h):\n",
    "    return (f([x[0], x[1] + h]) - f([x[0], x[1] - h])) / (2.0 * h)\n",
    "\n",
    "def grad(f,x,h):\n",
    "    return np.array([df1(f,x,h[0]), df2(f,x,h[1])], dtype = float)\n",
    "\n",
    "\n",
    "#def grad(f,x,h):\n",
    "#    I = np.eye(len(x))\n",
    "#    return np.array([(f(x + h * I_) - f(x - h * I_))/(2.0*h) for I_ in I])\n",
    "\n",
    "\n",
    "def alpha_split(f,x,step,b=1,l=0.5,q=0.1):\n",
    "    alpha = b\n",
    "    #while (f(x+alpha*step) >= f(x)):\n",
    "    while f(x+alpha*step) > f(x) + q * alpha * grad(f,x,h).dot(step):\n",
    "        alpha *= l\n",
    "    #print(alpha)\n",
    "    return alpha\n",
    "\n",
    "### STOP CONDITIONS\n",
    "def stop1(x1,x2,k):\n",
    "    d = norm(x2-x1)\n",
    "    plt.xlabel('iteration')\n",
    "    plt.ylabel('|| x_new - x_old || ')\n",
    "    plt.scatter(k, d)\n",
    "    return d<=EPS\n",
    "\n",
    "def stop2(f,x1,x2,k):\n",
    "    d = abs(f(x2)-f(x1))\n",
    "    plt.xlabel('iteration')\n",
    "    plt.ylabel('| f(x_new) - f(x_old) | ')    \n",
    "    plt.scatter(k, d)\n",
    "    return d<=EPS"
   ]
  },
  {
   "cell_type": "markdown",
   "metadata": {},
   "source": [
    "# Метод спряжених напрямів першого порядку\n"
   ]
  },
  {
   "cell_type": "code",
   "execution_count": 26,
   "metadata": {
    "collapsed": false,
    "scrolled": false
   },
   "outputs": [
    {
     "name": "stdout",
     "output_type": "stream",
     "text": [
      "Approximate solution found in 10 iterations\n",
      "> Approximate   x*  = (-0.25503, -0.57382, -0.38255)\n",
      "> Approximate f(x*) = -2.61406\n"
     ]
    },
    {
     "data": {
      "image/png": "[encoded data removed]",
      "text/plain": [
       "<matplotlib.figure.Figure at 0x88590f0>"
      ]
     },
     "metadata": {},
     "output_type": "display_data"
    },
    {
     "name": "stdout",
     "output_type": "stream",
     "text": [
      "\n"
     ]
    }
   ],
   "source": [
    "def conjugate_directions_first(x0,h):\n",
    "    fout = open('output.txt', 'w')\n",
    "    fout.write('The initial point is ({x}, {y})\\n\\n'.format(x=x0[0], y=x0[1]))\n",
    "    x_new = x0\n",
    "    step_new = - grad(f,x_new,h)\n",
    "    k = 0\n",
    "    plt.xlabel('iteration')\n",
    "    while (k<MAX_COUNT_ITER):\n",
    "        x_old = x_new  \n",
    "        step_old = step_new\n",
    "        beta = df(x_old,h)\n",
    "        step_new = - grad(f,x_old,h) + beta * step_old\n",
    "        alpha = choose_alpha_method(x_old,step,f_type)\n",
    "        x_new = x_old + alpha * step\n",
    "        k += 1 \n",
    "        fout.write('{iter:>3}. alpha = {al:<17.15f},   x_{iter:<3} = ({x:>18.15f}, {y:>18.15f})\\n'.format(iter=k, x=x_new[0], y=x_new[1], al=alpha))\n",
    "        #print('{iter:>3}. alpha = {al:<17.15f},   x_{iter:<3} = ({x:>18.15f}, {y:>18.15f})'.format(iter=k, x=x_new[0], y=x_new[1], al=alpha))\n",
    "        if (stop1(x_old,x_new,k)):    ### STOP CONDITION 1\n",
    "        #if (stop2(x_old,x_new,k)):    ### STOP CONDITION 2\n",
    "        #if (stop3(x_new,h,k)):        ### STOP CONDITION 3\n",
    "            break\n",
    "    print('Gradient method found approximate solution in {} iterations'.format(k))\n",
    "    fout.write('\\nThe approximate solution of the problem is ({x:>10.7f}, {y:>10.7f})\\n'.format(x=x_new[0], y=x_new[1]))\n",
    "    fout.write('The value of function in this point is {v:>10.7f}\\n'.format(v=f(x_new)))\n",
    "    fout.close()\n",
    "    return x_new\n",
    "\n",
    "minim = projection_gradient_method(f,x0,h)\n",
    "plt.show()\n",
    "print()"
   ]
  },
  {
   "cell_type": "markdown",
   "metadata": {},
   "source": [
    "# МЕТОД ПРОЕКЦІЇ ГРАДІЄНТА З ФОРМУЛОЮ ДЛЯ ОБЧИСЛЕННЯ ПРОЕКЦІЇ\n"
   ]
  },
  {
   "cell_type": "code",
   "execution_count": 28,
   "metadata": {
    "collapsed": false
   },
   "outputs": [
    {
     "name": "stdout",
     "output_type": "stream",
     "text": [
      "Approximate solution found in 9 iterations\n",
      "> Approximate   x*  = (-0.29916, -0.56871, -0.29094)\n",
      "> Approximate f(x*) = -2.59539\n",
      "0.0186721721328\n"
     ]
    },
    {
     "data": {
      "image/png": "[encoded data removed]",
      "text/plain": [
       "<matplotlib.figure.Figure at 0x664e6d8>"
      ]
     },
     "metadata": {},
     "output_type": "display_data"
    },
    {
     "name": "stdout",
     "output_type": "stream",
     "text": [
      "\n"
     ]
    }
   ],
   "source": [
    "def projection_gradient_method_f(f,x0,h):\n",
    "    fout = open('output.txt', 'w')\n",
    "    fout.write('The initial point is ({}, {}, {})\\n\\n'.format(*x0))\n",
    "    x_new = x0\n",
    "    k = 0\n",
    "    while (k<MAX_COUNT_ITER):\n",
    "        k += 1 \n",
    "        x_old = x_new    \n",
    "        step = - grad(f,x_old,h)\n",
    "        alpha = alpha_split(f,x_old,step)\n",
    "        t = x_old + alpha * step\n",
    "        fout.write('{iter:>3}. alpha = {al:<5.3f},   x_{iter:<3} = ({:>7.4f}, {:>7.4f}, {:>7.4f}),   '.format(iter=k, *t, al=alpha))\n",
    "        x_new = my_projection_ellipsoid(t)\n",
    "        fout.write('prx_{iter:<3} = ({:>7.4f}, {:>7.4f}, {:>7.4f}),   f(x_{iter:<}) = {f:>7.4f}\\n'.format(iter=k, *x_new, f=f(x_new)))\n",
    "        if (stop1(x_old,x_new,k) and stop2(f,x_old,x_new,k)):\n",
    "            break\n",
    "    print('Approximate solution found in {} iterations'.format(k))\n",
    "    print('> Approximate   x*  = ({:>8.5f}, {:>8.5f}, {:>8.5f})'.format(*x_new))\n",
    "    print('> Approximate f(x*) = {:>8.5f}'.format(f(x_new)))\n",
    "    fout.write('\\nThe approximate solution of the problem is ({:>8.5f}, {:>8.5f}, {:>8.5f})\\n'.format(*x_new))\n",
    "    fout.write('The value of function in this point is {:>8.5f}\\n'.format(f(x_new)))\n",
    "    fout.close()\n",
    "    print(abs(f(x_new)+sqrt(41.0/6)))\n",
    "    return x_new\n",
    "\n",
    "minim = projection_gradient_method_f(f,x0,h)\n",
    "plt.show()\n",
    "print()"
   ]
  },
  {
   "cell_type": "code",
   "execution_count": null,
   "metadata": {
    "collapsed": true
   },
   "outputs": [],
   "source": []
  }
 ],
 "metadata": {
  "anaconda-cloud": {},
  "kernelspec": {
   "display_name": "Python 3",
   "language": "python",
   "name": "python3"
  },
  "language_info": {
   "codemirror_mode": {
    "name": "ipython",
    "version": 3
   },
   "file_extension": ".py",
   "mimetype": "text/x-python",
   "name": "python",
   "nbconvert_exporter": "python",
   "pygments_lexer": "ipython3",
   "version": "3.6.0"
  }
 },
 "nbformat": 4,
 "nbformat_minor": 1
}
