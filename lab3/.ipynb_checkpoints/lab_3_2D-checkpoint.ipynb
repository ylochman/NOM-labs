{
 "cells": [
  {
   "cell_type": "code",
   "execution_count": 1,
   "metadata": {
    "collapsed": false
   },
   "outputs": [],
   "source": [
    "%matplotlib inline\n",
    "import numpy as np\n",
    "from numpy.linalg import norm\n",
    "from math import sqrt\n",
    "from scipy.optimize import minimize\n",
    "import matplotlib.pyplot as plt\n",
    "from mpl_toolkits.mplot3d import axes3d"
   ]
  },
  {
   "cell_type": "code",
   "execution_count": 3,
   "metadata": {
    "collapsed": false
   },
   "outputs": [],
   "source": [
    "def projection_ell(point, a, b):\n",
    "    k = sqrt(1 / ((point[0]/a)**2+(point[1]/b)**2))\n",
    "    prj = np.linspace(k, k, num=DIM) * point\n",
    "    #print(point)\n",
    "    #print(prj)\n",
    "    return prj"
   ]
  },
  {
   "cell_type": "code",
   "execution_count": 45,
   "metadata": {
    "collapsed": true
   },
   "outputs": [],
   "source": [
    "### SETTINGS\n",
    "MAX_COUNT_ITER = 500\n",
    "EPS = 10**(-5)\n",
    "DIM = 2\n",
    "h = np.array([0.001, 0.001], dtype = float)\n",
    "\n",
    "###CONSTRAINTS for ellipsoid x^2/a^2 + y^2/b^2 + z^2/c^2 <= 1\n",
    "A = 10.0   #actually it's 1/a^2\n",
    "B = 2.0   #actually it's 1/b^2\n",
    "\n",
    "### TARGET FUNCTIONS\n",
    "def f_test(x):\n",
    "    return 2.0 * x[0] + 3.0 * x[1]\n",
    "\n",
    "def f_myvar(x):\n",
    "    return 2.0 * x[0] + 3.0 * x[1]\n",
    "\n",
    "f = f_test\n",
    "x0 = np.array([1, 1], dtype = float)"
   ]
  },
  {
   "cell_type": "code",
   "execution_count": 44,
   "metadata": {
    "collapsed": false
   },
   "outputs": [],
   "source": [
    "def df1(f,x,h):\n",
    "    return (f([x[0] + h, x[1]]) - f([x[0] - h, x[1]])) / (2.0 * h)\n",
    "def df2(f,x,h):\n",
    "    return (f([x[0], x[1] + h]) - f([x[0], x[1] - h])) / (2.0 * h)\n",
    "\n",
    "def grad(f,x,h):\n",
    "    return np.array([df1(f,x,h[0]), df2(f,x,h[1])], dtype = float)\n",
    "\n",
    "def alpha_split(f,x,step,b=1,l=0.5,q=0.1):\n",
    "    alpha = b\n",
    "    #while (f(x+alpha*step) >= f(x)):\n",
    "    while f(x+alpha*step) > f(x) + q * alpha * grad(f,x,h).dot(step):\n",
    "        alpha *= l\n",
    "    #print(alpha)\n",
    "    return alpha\n",
    "\n",
    "### STOP CONDITIONS\n",
    "def stop1(x1,x2,k):\n",
    "    d = norm(x2-x1)\n",
    "    #plt.xlabel('iteration')\n",
    "    #plt.ylabel('|| x_new - x_old || ')\n",
    "    #plt.scatter(k, d)\n",
    "    return d<=EPS\n",
    "\n",
    "def stop2(f,x1,x2,k):\n",
    "    d = abs(f(x2)-f(x1))\n",
    "    #plt.xlabel('iteration')\n",
    "    #plt.ylabel('| f(x_new) - f(x_old) | ')    \n",
    "    #plt.scatter(k, d)\n",
    "    return d<=EPS\n",
    "\n",
    "###PROJECTIONS\n",
    "def projection_ellipse(point): \n",
    "    if point[0]**2/A + point[1]**2/B <= 1:\n",
    "        return point\n",
    "    dist = lambda x: norm(x - point)\n",
    "    ellipse = ( {'type': 'ineq', 'fun': lambda x: 1 - A * x[0]**2 - B * x[1]**2}) \n",
    "    return minimize(dist, (0.0, 0.0), method='SLSQP', constraints = ellipse).x\n",
    "\n",
    "def projection_ball(point, a = np.zeros((DIM)), r=1):\n",
    "    #prj = a + r * (point - a)*1.0/norm(point - a)\n",
    "    nrm = norm(point - a)\n",
    "    prj = np.array([a[i] + r * (point[i]-a[i])/nrm for i in range(DIM)])\n",
    "    #print(point)\n",
    "    #print(prj)\n",
    "    return prj\n",
    "\n",
    "def my_projection_ellipse(point):\n",
    "    if point[0]**2/A + point[1]**2/B <= 1:\n",
    "        return point\n",
    "    temp = projection_ball(point) \n",
    "    #temp = projection_ball([sqrt(A) * t[0], sqrt(B) * t[1]]) \n",
    "    prj = np.array([sqrt(1/A) * temp[0], sqrt(1/B) * temp[1]])\n",
    "    #print(temp)        #print(x_new)     \n",
    "    #print(norm(temp))  #print(A * x_new[0]**2 + B * x_new[1]**2)\n",
    "    return prj"
   ]
  },
  {
   "cell_type": "markdown",
   "metadata": {},
   "source": [
    "# МЕТОД ПРОЕКЦІЇ ГРАДІЄНТА\n"
   ]
  },
  {
   "cell_type": "code",
   "execution_count": 46,
   "metadata": {
    "collapsed": false,
    "scrolled": false
   },
   "outputs": [
    {
     "name": "stdout",
     "output_type": "stream",
     "text": [
      "Approximate solution found in 4 iterations\n",
      "> Approximate   x*  = (-0.09035, -0.67763)\n",
      "> Approximate f(x*) = -2.21359\n",
      "\n"
     ]
    }
   ],
   "source": [
    "def projection_gradient_method(f,x0,h):\n",
    "    fout = open('output.txt', 'w')\n",
    "    fout.write('The initial point is ({}, {})\\n\\n'.format(*x0))\n",
    "    x_new = x0\n",
    "    k = 0\n",
    "    while (k<300):\n",
    "        k += 1 \n",
    "        x_old = x_new    \n",
    "        step = - grad(f,x_old,h)\n",
    "        alpha = alpha_split(f,x_old,step)\n",
    "        t = x_old + alpha * step\n",
    "        fout.write('{iter:>3}. alpha = {al:<5.3f},   x_{iter:<3} = ({:>7.4f}, {:>7.4f}),   '.format(iter=k, *t, al=alpha))\n",
    "        x_new = projection_ellipse(t)\n",
    "        fout.write('prx_{iter:<3} = ({:>7.4f}, {:>7.4f}),   f(x_{iter:<}) = {f:>7.4f}\\n'.format(iter=k, *x_new, f=f(x_new)))\n",
    "        if (stop1(x_old,x_new,k) and stop2(f,x_old,x_new,k)):\n",
    "            break\n",
    "    print('Approximate solution found in {} iterations'.format(k))\n",
    "    print('> Approximate   x*  = ({:>8.5f}, {:>8.5f})'.format(*x_new))\n",
    "    print('> Approximate f(x*) = {:>8.5f}'.format(f(x_new)))\n",
    "    fout.write('\\nThe approximate solution of the problem is ({:>8.5f}, {:>8.5f})\\n'.format(*x_new))\n",
    "    fout.write('The value of function in this point is {:>8.5f}\\n'.format(f(x_new)))\n",
    "    fout.close()\n",
    "    return x_new\n",
    "\n",
    "minim = projection_gradient_method(f,x0,h)\n",
    "#plt.show()\n",
    "print()"
   ]
  },
  {
   "cell_type": "markdown",
   "metadata": {},
   "source": [
    "# МЕТОД ПРОЕКЦІЇ ГРАДІЄНТА З ФОРМУЛОЮ ДЛЯ ОБЧИСЛЕННЯ ПРОЕКЦІЇ\n"
   ]
  },
  {
   "cell_type": "code",
   "execution_count": 41,
   "metadata": {
    "collapsed": false
   },
   "outputs": [
    {
     "name": "stdout",
     "output_type": "stream",
     "text": [
      "Approximate solution found in 6 iterations\n",
      "> Approximate   x*  = (-0.16263, -0.60643)\n",
      "> Approximate f(x*) = -2.14455\n",
      "\n"
     ]
    }
   ],
   "source": [
    "def projection_gradient_method_f(f,x0,h):\n",
    "    fout = open('output.txt', 'w')\n",
    "    fout.write('The initial point is ({}, {})\\n\\n'.format(*x0))\n",
    "    x_new = x0\n",
    "    k = 0\n",
    "    while (k<MAX_COUNT_ITER):\n",
    "        k += 1 \n",
    "        x_old = x_new    \n",
    "        step = - grad(f,x_old,h)\n",
    "        alpha = alpha_split(f,x_old,step)\n",
    "        t = x_old + alpha * step\n",
    "        fout.write('{iter:>3}. alpha = {al:<5.3f},   x_{iter:<3} = ({:>7.4f}, {:>7.4f}),   '.format(iter=k, *t, al=alpha))\n",
    "        x_new = my_projection_ellipse(t)\n",
    "        fout.write('prx_{iter:<3} = ({:>7.4f}, {:>7.4f}),   f(x_{iter:<}) = {f:>7.4f}\\n'.format(iter=k, *x_new, f=f(x_new)))\n",
    "        if (stop1(x_old,x_new,k) and stop2(f,x_old,x_new,k)):\n",
    "            break\n",
    "    print('Approximate solution found in {} iterations'.format(k))\n",
    "    print('> Approximate   x*  = ({:>8.5f}, {:>8.5f})'.format(*x_new))\n",
    "    print('> Approximate f(x*) = {:>8.5f}'.format(f(x_new)))\n",
    "    fout.write('\\nThe approximate solution of the problem is ({:>8.5f}, {:>8.5f})\\n'.format(*x_new))\n",
    "    fout.write('The value of function in this point is {:>8.5f}\\n'.format(f(x_new)))\n",
    "    fout.close()\n",
    "    return x_new\n",
    "\n",
    "minim = projection_gradient_method_f(f,x0,h)\n",
    "#plt.show()\n",
    "print()"
   ]
  },
  {
   "cell_type": "code",
   "execution_count": null,
   "metadata": {
    "collapsed": true
   },
   "outputs": [],
   "source": []
  }
 ],
 "metadata": {
  "anaconda-cloud": {},
  "kernelspec": {
   "display_name": "Python [default]",
   "language": "python",
   "name": "python3"
  },
  "language_info": {
   "codemirror_mode": {
    "name": "ipython",
    "version": 3
   },
   "file_extension": ".py",
   "mimetype": "text/x-python",
   "name": "python",
   "nbconvert_exporter": "python",
   "pygments_lexer": "ipython3",
   "version": "3.5.2"
  }
 },
 "nbformat": 4,
 "nbformat_minor": 1
}
