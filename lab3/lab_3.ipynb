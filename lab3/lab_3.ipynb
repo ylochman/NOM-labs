{
 "cells": [
  {
   "cell_type": "code",
   "execution_count": 1,
   "metadata": {
    "collapsed": false
   },
   "outputs": [],
   "source": [
    "%matplotlib inline\n",
    "import numpy as np\n",
    "from numpy.linalg import norm\n",
    "from math import sqrt\n",
    "from scipy.optimize import minimize\n",
    "import matplotlib.pyplot as plt\n",
    "from mpl_toolkits.mplot3d import axes3d"
   ]
  },
  {
   "cell_type": "code",
   "execution_count": 2,
   "metadata": {
    "collapsed": false
   },
   "outputs": [],
   "source": [
    "def visualize(a,b,c):\n",
    "    ax = axes3d.Axes3D(plt.figure())\n",
    "    u = np.linspace(0, 2*np.pi, 100)\n",
    "    v = np.linspace(0, np.pi, 100)\n",
    "    x = a * np.outer(np.cos(u), np.sin(v))\n",
    "    y = b * np.outer(np.sin(u), np.sin(v))\n",
    "    z = b * np.outer(np.ones(np.size(u)), np.cos(v))\n",
    "    ax.plot_surface(x, y, z,  rstride=4, cstride=4)\n",
    "    plt.show()\n",
    "    return 0"
   ]
  },
  {
   "cell_type": "code",
   "execution_count": 23,
   "metadata": {
    "collapsed": true
   },
   "outputs": [],
   "source": [
    "### SETTINGS\n",
    "MAX_COUNT_ITER = 500\n",
    "EPS = 10**(-5)\n",
    "DIM = 3\n",
    "h = np.array([0.001, 0.001, 0.001], dtype = float)\n",
    "\n",
    "###CONSTRAINTS for ellipsoid x^2/a^2 + y^2/b^2 + z^2/c^2 <= 1\n",
    "A = 1.0/16 #1.0/16   #actually it's a^2\n",
    "B = 1.0/4 #0.25   #actually it's b^2\n",
    "C = 1.0/100 #1.0   #actually it's c^2\n",
    "\n",
    "### TARGET FUNCTIONS\n",
    "def f_test(x):\n",
    "    return 2.0 * x[0] + 3.0 * x[1] + x[2]   \n",
    "    #return (x[0] - 3) ** 2 + 8 * (x[1] + 1) ** 2 + 2 * (x[0] - 3) * (x[1] + 1) + x[2] ** 2\n",
    "\n",
    "def f_myvar(x):\n",
    "    return 2.0 * x[0] + 3.0 * x[1] + x[2]   \n",
    "\n",
    "f = f_test\n",
    "x0 = np.array([0, 0, 0], dtype = float)"
   ]
  },
  {
   "cell_type": "code",
   "execution_count": 24,
   "metadata": {
    "collapsed": false
   },
   "outputs": [],
   "source": [
    "def df1(f,x,h):\n",
    "    return (f([x[0] + h, x[1], x[2]]) - f([x[0] - h, x[1], x[2]])) / (2.0 * h)\n",
    "def df2(f,x,h):\n",
    "    return (f([x[0], x[1] + h, x[2]]) - f([x[0], x[1] - h, x[2]])) / (2.0 * h)\n",
    "def df3(f,x,h):\n",
    "    return (f([x[0], x[1], x[2] + h]) - f([x[0], x[1], x[2] - h])) / (2.0 * h)\n",
    "\n",
    "def grad(f,x,h):\n",
    "    return np.array([df1(f,x,h[0]), df2(f,x,h[1]), df3(f,x,h[2])], dtype = float)\n",
    "\n",
    "def alpha_split(f,x,step,b=1,l=0.5,q=0.1):\n",
    "    alpha = b\n",
    "    #while (f(x+alpha*step) >= f(x)):\n",
    "    while f(x+alpha*step) > f(x) + q * alpha * grad(f,x,h).dot(step):\n",
    "        alpha *= l\n",
    "    #print(alpha)\n",
    "    return alpha\n",
    "\n",
    "### STOP CONDITIONS\n",
    "def stop1(x1,x2,k):\n",
    "    d = norm(x2-x1)\n",
    "    plt.xlabel('iteration')\n",
    "    plt.ylabel('|| x_new - x_old || ')\n",
    "    plt.scatter(k, d)\n",
    "    return d<=EPS\n",
    "\n",
    "def stop2(f,x1,x2,k):\n",
    "    d = abs(f(x2)-f(x1))\n",
    "    plt.xlabel('iteration')\n",
    "    plt.ylabel('| f(x_new) - f(x_old) | ')    \n",
    "    plt.scatter(k, d)\n",
    "    return d<=EPS\n",
    "\n",
    "def norm(s):\n",
    "    return sqrt(s[0]**2 + s[1]**2 + s[2]**2)\n",
    "\n",
    "def norm2(s):\n",
    "    return sqrt(A * s[0]**2 + B * s[1]**2 + C * s[2]**2)\n",
    "\n",
    "###PROJECTIONS\n",
    "def projection_ellipsoid(point): \n",
    "    if (A * point[0]**2 + B * point[1]**2 + C * point[2]**2) <= 1:\n",
    "        return point\n",
    "    dist = lambda x: norm2(x - point) #norm(x - point)\n",
    "    ellipse = ( {'type': 'ineq', 'fun': lambda x: 1 - A * x[0]**2 - B * x[1]**2 - C * x[2]**2}) \n",
    "    return minimize(dist, (0.0, 0.0, 0.0), method='SLSQP', constraints = ellipse).x\n",
    "\n",
    "def projection_ball(point, a = np.zeros((DIM)), r=1):\n",
    "    prj = a + r * (point - a)*1.0/norm(point - a)\n",
    "    #nrm = norm(point - a)\n",
    "    #prj = np.array([a[i] + r * (point[i]-a[i])/nrm for i in range(DIM)])\n",
    "    #print(point)\n",
    "    #print(prj)\n",
    "    return prj\n",
    "\n",
    "def my_projection_ellipsoid(point):\n",
    "    if (A * point[0]**2 + B * point[1]**2 + C * point[2]**2) <= 1:\n",
    "        return point\n",
    "    #temp = projection_ball(point)\n",
    "    temp = projection_ball([sqrt(A) * point[0], sqrt(B) * point[1], sqrt(C) * point[2]]) \n",
    "    prj = np.array([sqrt(1/A) * temp[0], sqrt(1/B) * temp[1], sqrt(1/C) * temp[2]])\n",
    "    #print(temp)    \n",
    "    #print(x_new)     \n",
    "    #print(norm(temp)) \n",
    "    #print(A * prj[0]**2 + B * prj[1]**2 + C * prj[2]**2)\n",
    "    return prj\n",
    "\n",
    "def my_projection_ellipsoid_2(point):\n",
    "    if (A * point[0]**2 + B * point[1]**2 + C * point[2]**2) <= 1:\n",
    "        return point\n",
    "    #temp = projection_ball(point)\n",
    "    #temp = projection_ball([sqrt(A) * point[0], sqrt(B) * point[1], sqrt(C) * point[2]]) \n",
    "    #prj = np.array([sqrt(1/A) * temp[0], sqrt(1/B) * temp[1], sqrt(1/C) * temp[2]])\n",
    "    prj = point / norm2(point)\n",
    "    return prj"
   ]
  },
  {
   "cell_type": "markdown",
   "metadata": {},
   "source": [
    "# МПГ З ВИКОРИСТАННЯМ БІБЛІОТЕЧНОЇ ФУНКЦІЇ МІНІМІЗАЦІЇ\n"
   ]
  },
  {
   "cell_type": "code",
   "execution_count": 25,
   "metadata": {
    "collapsed": false,
    "scrolled": false
   },
   "outputs": [
    {
     "name": "stdout",
     "output_type": "stream",
     "text": [
      "Approximate solution found in 5 iterations\n",
      "> Approximate   x*  = (-1.26255, -1.89356, -0.63122)\n",
      "> Approximate f(x*) = -8.83698\n"
     ]
    },
    {
     "data": {
      "image/png": "[encoded data removed]",
      "text/plain": [
       "<matplotlib.figure.Figure at 0x9dc3b70>"
      ]
     },
     "metadata": {},
     "output_type": "display_data"
    },
    {
     "name": "stdout",
     "output_type": "stream",
     "text": [
      "\n"
     ]
    }
   ],
   "source": [
    "def projection_gradient_method(f,x0,h):\n",
    "    fout = open('output.txt', 'w')\n",
    "    fout.write('The initial point is ({}, {}, {})\\n\\n'.format(*x0))\n",
    "    x_new = x0\n",
    "    k = 0\n",
    "    while (k<MAX_COUNT_ITER):\n",
    "        k += 1 \n",
    "        x_old = x_new    \n",
    "        step = - grad(f,x_old,h)\n",
    "        alpha = alpha_split(f,x_old,step)\n",
    "        t = x_old + alpha * step\n",
    "        fout.write('grad = ({:>4.2f}, {:>4.2f}, {:>4.2f})\\n'.format(*step))\n",
    "        fout.write('{iter:>3}. alpha = {al:<5.3f},   x_{iter:<3} = ({:>7.4f}, {:>7.4f}, {:>7.4f}),   '.format(iter=k, *t, al=alpha))\n",
    "        x_new = projection_ellipsoid(t)\n",
    "        fout.write('prx_{iter:<3} = ({:>7.4f}, {:>7.4f}, {:>7.4f}),   f(x_{iter:<}) = {f:>7.4f}\\n'.format(iter=k, *x_new, f=f(x_new)))\n",
    "        if (stop1(x_old,x_new,k) and stop2(f,x_old,x_new,k)):\n",
    "            break\n",
    "    print('Approximate solution found in {} iterations'.format(k))\n",
    "    print('> Approximate   x*  = ({:>8.5f}, {:>8.5f}, {:>8.5f})'.format(*x_new))\n",
    "    print('> Approximate f(x*) = {:>8.5f}'.format(f(x_new)))\n",
    "    fout.write('\\nThe approximate solution of the problem is ({:>8.5f}, {:>8.5f}, {:>8.5f})\\n'.format(*x_new))\n",
    "    fout.write('The value of function in this point is {:>8.5f}\\n'.format(f(x_new)))\n",
    "    fout.close()\n",
    "    #print(A * x_new[0]**2 + B * x_new[1]**2 + C * x_new[2]**2)\n",
    "    #print('error = ',abs(f(x_new)+sqrt(41.0/6)))\n",
    "    return x_new\n",
    "\n",
    "minim = projection_gradient_method(f,x0,h)\n",
    "plt.show()\n",
    "print()"
   ]
  },
  {
   "cell_type": "markdown",
   "metadata": {},
   "source": [
    "# МПГ З ПРИБЛИЗНОЮ ФОРМУЛОЮ ДЛЯ ОБЧИСЛЕННЯ ПРОЕКЦІЇ"
   ]
  },
  {
   "cell_type": "code",
   "execution_count": 26,
   "metadata": {
    "collapsed": false,
    "scrolled": false
   },
   "outputs": [
    {
     "name": "stdout",
     "output_type": "stream",
     "text": [
      "Approximate solution found in 2 iterations\n",
      "> Approximate   x*  = (-1.26239, -1.89358, -0.63119)\n",
      "> Approximate f(x*) = -8.83672\n",
      "1.0\n"
     ]
    },
    {
     "data": {
      "image/png": "[encoded data removed]",
      "text/plain": [
       "<matplotlib.figure.Figure at 0x9dc3208>"
      ]
     },
     "metadata": {},
     "output_type": "display_data"
    },
    {
     "name": "stdout",
     "output_type": "stream",
     "text": [
      "\n"
     ]
    }
   ],
   "source": [
    "def projection_gradient_method_f(f,x0,h):\n",
    "    fout = open('output.txt', 'w')\n",
    "    fout.write('MY. The initial point is ({}, {}, {})\\n\\n'.format(*x0))\n",
    "    x_new = x0\n",
    "    k = 0\n",
    "    while (k<MAX_COUNT_ITER):\n",
    "        k += 1 \n",
    "        x_old = x_new    \n",
    "        step = - grad(f,x_old,h)\n",
    "        alpha = alpha_split(f,x_old,step)\n",
    "        t = x_old + alpha * step\n",
    "        fout.write('grad = ({:>4.2f}, {:>4.2f}, {:>4.2f})\\n'.format(*step))\n",
    "        fout.write('{iter:>3}. alpha = {al:<5.3f},   x_{iter:<3} = ({:>7.4f}, {:>7.4f}, {:>7.4f}),   '.format(iter=k, *t, al=alpha))\n",
    "        fout.write('norm = ' + str(A * t[0]**2 + B * t[1]**2 + C * t[2]**2) + '\\n')\n",
    "        x_new = my_projection_ellipsoid(t)\n",
    "        fout.write('prx_{iter:<3} = ({:>7.4f}, {:>7.4f}, {:>7.4f}),   f(x_{iter:<}) = {f:>7.4f}\\n'.format(iter=k, *x_new, f=f(x_new)))\n",
    "        if (stop1(x_old,x_new,k) and stop2(f,x_old,x_new,k)):\n",
    "            break\n",
    "    \n",
    "    print('Approximate solution found in {} iterations'.format(k))\n",
    "    print('> Approximate   x*  = ({:>8.5f}, {:>8.5f}, {:>8.5f})'.format(*x_new))\n",
    "    print('> Approximate f(x*) = {:>8.5f}'.format(f(x_new)))\n",
    "    fout.write('\\nThe approximate solution of the problem is ({:>8.5f}, {:>8.5f}, {:>8.5f})\\n'.format(*x_new))\n",
    "    fout.write('The value of function in this point is {:>8.5f}\\n'.format(f(x_new)))\n",
    "    fout.close()\n",
    "    print(A * x_new[0]**2 + B * x_new[1]**2 + C * x_new[2]**2)\n",
    "    #print('error = ',abs(f(x_new)+sqrt(41.0/6)))\n",
    "    return x_new\n",
    "\n",
    "minim = projection_gradient_method_f(f,x0,h)\n",
    "plt.show()\n",
    "print()"
   ]
  },
  {
   "cell_type": "code",
   "execution_count": null,
   "metadata": {
    "collapsed": true
   },
   "outputs": [],
   "source": []
  },
  {
   "cell_type": "code",
   "execution_count": null,
   "metadata": {
    "collapsed": true
   },
   "outputs": [],
   "source": []
  }
 ],
 "metadata": {
  "anaconda-cloud": {},
  "kernelspec": {
   "display_name": "Python 3",
   "language": "python",
   "name": "python3"
  },
  "language_info": {
   "codemirror_mode": {
    "name": "ipython",
    "version": 3
   },
   "file_extension": ".py",
   "mimetype": "text/x-python",
   "name": "python",
   "nbconvert_exporter": "python",
   "pygments_lexer": "ipython3",
   "version": "3.6.0"
  }
 },
 "nbformat": 4,
 "nbformat_minor": 1
}
