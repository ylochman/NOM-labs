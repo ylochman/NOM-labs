{
 "cells": [
  {
   "cell_type": "code",
   "execution_count": 297,
   "metadata": {
    "collapsed": true
   },
   "outputs": [],
   "source": [
    "import numpy as np\n",
    "from numpy.linalg import norm\n",
    "import matplotlib.pyplot as plt\n",
    "from scipy.optimize import line_search\n",
    "from scipy.optimize import minimize"
   ]
  },
  {
   "cell_type": "code",
   "execution_count": 406,
   "metadata": {
    "collapsed": true
   },
   "outputs": [],
   "source": [
    "### SETTINGS\n",
    "MAX_COUNT_ITER = 1000\n",
    "EPS = 10**(-5)\n",
    "h = 0.001 * np.ones(DIM)\n",
    "OUT_K = 40\n",
    "freq = 200 "
   ]
  },
  {
   "cell_type": "code",
   "execution_count": 435,
   "metadata": {
    "collapsed": true
   },
   "outputs": [],
   "source": [
    "def vec_str(vec):\n",
    "    str = '('\n",
    "    for i in range(DIM):\n",
    "        str += '{:>6.3f} '.format(vec[i]);            \n",
    "    str += ')'\n",
    "    return str\n",
    "\n",
    "def vec_str_long(vec):\n",
    "    str = '('\n",
    "    for i in range(DIM):\n",
    "        str += '{:>14.11f} '.format(vec[i]);            \n",
    "    str += ')'\n",
    "    return str"
   ]
  },
  {
   "cell_type": "code",
   "execution_count": 474,
   "metadata": {
    "collapsed": false
   },
   "outputs": [],
   "source": [
    "class NOM:\n",
    "    def __init__(self,f_type='n',func=0, A=np.zeros((DIM,DIM)),\n",
    "                 b=np.zeros(DIM), c=0, x=np.zeros(DIM)):\n",
    "        self.type=f_type\n",
    "        if (f_type == 'q'):\n",
    "            self.A = A\n",
    "            self.b = b\n",
    "            self.c = c\n",
    "            self.f = lambda x: (1/2) * ((A@x)@x) + b@x + c\n",
    "        else:\n",
    "            self.f = func\n",
    "        self.x0 = x\n",
    "        \n",
    "    def grad(self,x):\n",
    "        if (self.type == 'q'):\n",
    "            return self.A @ x + self.b\n",
    "        else:\n",
    "            I = np.eye(DIM)\n",
    "            return np.array([(self.f(x + h * I_vec) - self.f(x - h * I_vec))\n",
    "                             / (2.0 * (h @ I_vec)) for I_vec in I])\n",
    "    \n",
    "    def hesse(self, x):\n",
    "        I = np.eye(DIM)\n",
    "        return np.array([(self.grad(x + h * I_vec) - self.grad(x - h * I_vec))\n",
    "                         / (2.0 * (h @ I_vec)) for I_vec in I])\n",
    "    \n",
    "    \n",
    "    ### STOP CONDITIONS\n",
    "    def stop(self,x1,x2,k):\n",
    "        d1 = norm(x2-x1)\n",
    "        d2 = abs(self.f(x2)-self.f(x1))\n",
    "        d3 = norm(self.grad(x))\n",
    "        \n",
    "        plt.xlabel('iteration')\n",
    "        plt.ylabel('| f(x_next) - f(x_prev) | ')    \n",
    "        \n",
    "        condition = (d1 < EPS) and (d2 < EPS) and (d3 < EPS)\n",
    "        if not condition:\n",
    "            plt.scatter(k, d1)\n",
    "        return condition\n",
    "    \n",
    "    ### FINDING ALPHA\n",
    "    def alpha_quadr(self,x,step): \n",
    "        return -np.dot((self.A.dot(x)+self.b),step) / (self.A.dot(step) @ step)\n",
    "    \n",
    "    def alpha_split(self,x,step,b=1,l=0.5,q=0.1):\n",
    "        alpha = b\n",
    "        #while (f(x+alpha*step) >= f(x)):\n",
    "        while self.f(x+alpha*step) > self.f(x) + q * alpha * (self.grad(x) @ step):\n",
    "            alpha *= l\n",
    "        return alpha\n",
    "    \n",
    "    ### FINDING BETA\n",
    "    def beta_quadr(self,x_prev,x_next,step_prev):\n",
    "        return ((self.grad(x_next) @ self.A.dot(step_prev))\n",
    "                / (step_prev @ self.A.dot(step_prev)))\n",
    "    \n",
    "    def beta_non_quadr(self,x_prev,x_next,step_prev):\n",
    "        return ((self.grad(x_next) @ self.grad(x_next) - self.grad(x_prev))\n",
    "                / (self.grad(x_next) @ self.grad(x_next)))\n",
    "    \n",
    "    ### Спряжених напрямків\n",
    "    def conjugate_directions(self):\n",
    "        self.fout_begin('output.txt')\n",
    "        self.fout_init(self.x0)\n",
    "        \n",
    "        k = -1\n",
    "        flag = True\n",
    "        find_beta = self.beta_quadr if self.type == 'q' else self.beta_non_quadr\n",
    "        find_alpha = self.alpha_quadr if self.type == 'q' else self.alpha_split\n",
    "        \n",
    "        x_next = self.x0\n",
    "        step_next = - self.grad(x_next)\n",
    "        while (k < MAX_COUNT_ITER):\n",
    "            x_prev = x_next  \n",
    "            step_prev = step_next\n",
    "            alpha = find_alpha(x_prev,step_prev)\n",
    "            x_next = x_prev + alpha * step_prev\n",
    "            \n",
    "            if (self.type != 'q') and (k // freq == 0):\n",
    "                beta = 0\n",
    "            else:\n",
    "                beta = find_beta(x_prev,x_next,step_prev)\n",
    "            step_next = - self.grad(x_next) + beta * step_prev\n",
    "            k += 1\n",
    "            if k < OUT_K:\n",
    "                self.print_inter(k,alpha,x_prev,step_prev)\n",
    "            else:\n",
    "                if flag == True:\n",
    "                    print('...')\n",
    "                    flag = False\n",
    "            self.fout_inter(k,alpha,x_prev,step_prev)\n",
    "            #self.fout_inter(k,alpha,x_next,step_next)\n",
    "            if self.stop(x_prev,x_next,k) or (alpha < EPS):\n",
    "                break\n",
    "        self.fout_result(k,x_next)\n",
    "        self.print_result(k,x_next)\n",
    "        self.fout.close()\n",
    "        return x_next\n",
    "    \n",
    "    ########################################################################################\n",
    "    ### Квазі-Ньютонівські\n",
    "    def delta_H(self,H_pr,x_nxt,x_pr):\n",
    "        dx = x_nxt - x_pr\n",
    "        dy = self.grad(x_nxt)-self.grad(x_pr)\n",
    "        z = dx - H_pr @ dy    \n",
    "        return np.outer(z,z) / (z @ dy)    \n",
    "    \n",
    "    def Quasi_Newton(self):\n",
    "        self.fout_begin('output_quasi_newton.txt')\n",
    "        self.fout_init(self.x0)\n",
    "        \n",
    "        k = -1\n",
    "        flag = True\n",
    "        find_alpha = self.alpha_quadr if self.type == 'q' else self.alpha_split\n",
    "        \n",
    "        x_nxt = self.x0\n",
    "        H_nxt = np.identity(DIM)\n",
    "\n",
    "        while (k < MAX_COUNT_ITER):\n",
    "            x_pr = x_nxt\n",
    "            H_pr = H_nxt\n",
    "            step_pr = - H_pr @ self.grad(x_pr)\n",
    "            alpha = find_alpha(x_pr,step_pr)\n",
    "            #alpha = line_search(self.f, self.grad, x_pr, step_pr)[0]\n",
    "            x_nxt = x_pr + alpha * step_pr \n",
    "            k += 1\n",
    "            if k < OUT_K:\n",
    "                self.print_inter(k,alpha,x_pr,step_pr)\n",
    "            else:\n",
    "                if flag == True:\n",
    "                    print('...')\n",
    "                    flag = False    \n",
    "            self.fout_inter(k,alpha,x_pr,step_pr)\n",
    "            if self.stop(x_pr,x_nxt,k) or (alpha < EPS):\n",
    "                break\n",
    "            else:\n",
    "                H_nxt = H_pr + self.delta_H(H_pr,x_nxt,x_pr)\n",
    "        self.fout_result(k,x_nxt)\n",
    "        self.print_result(k,x_nxt)\n",
    "        self.fout.close()\n",
    "        return x_nxt\n",
    "\n",
    "    ### OUTPUT\n",
    "    def fout_begin(self,filename):\n",
    "        self.fout = open(filename, 'w')\n",
    "        return\n",
    "    \n",
    "    def fout_init(self,x0):\n",
    "        print('The initial point is {}\\n'.format(self.x0))\n",
    "        print('  k|'+' '*8+'x'+' '*9+'|'+' alpha '+ '|'+' '*7+'step'+' '*7)\n",
    "        self.fout.write('The initial point is {}\\n\\n'.format(self.x0))\n",
    "        self.fout.write('  k|'+' '*16+'x'+' '*17+'|'+' '*5+'alpha'+' '*5+ '|'+' '*15+\n",
    "                   'step'+' '*15+'\\n')\n",
    "        pass\n",
    "    \n",
    "    def fout_inter(self,k,alpha,x,step):\n",
    "        str_k = '{:>3}| '.format(k)\n",
    "        str_alpha =' | {:<13.11f} | '.format(alpha)\n",
    "        self.fout.write(str_k + vec_str_long(x) + str_alpha + vec_str_long(step) + '\\n')\n",
    "        pass\n",
    "    \n",
    "    def fout_result(self,k,x):\n",
    "        self.fout.write('\\nTOTAL ITERATIONS: {}\\n'.format(k))\n",
    "        self.fout.write('SOLUTION: x    = ' + vec_str(x))\n",
    "        self.fout.write('VALUE:    f(x) =  {:>10.7f}\\n'.format(self.f(x)))\n",
    "        pass\n",
    "    \n",
    "    def print_inter(self,k,alpha,x,step):\n",
    "        str_k = '{:>3}| '.format(k)\n",
    "        str_alpha =' | {:<5.3f} | '.format(alpha)\n",
    "        print(str_k+vec_str(x)+str_alpha+vec_str(step))\n",
    "        pass\n",
    "    \n",
    "    \n",
    "    def print_result(self,k,x):\n",
    "        print('\\nTOTAL ITERATIONS: {}'.format(k))\n",
    "        print('SOLUTION: x    = ' + vec_str(x))\n",
    "        print('VALUE:    f(x) =  {:>10.7f}\\n'.format(self.f(x)))\n",
    "        pass"
   ]
  },
  {
   "cell_type": "markdown",
   "metadata": {},
   "source": [
    "# КВАЗІНЬЮТОНІВСЬКИЙ"
   ]
  },
  {
   "cell_type": "markdown",
   "metadata": {},
   "source": [
    "### КВАДРАТИЧНА ФУНКЦІЯ"
   ]
  },
  {
   "cell_type": "code",
   "execution_count": 475,
   "metadata": {
    "collapsed": false
   },
   "outputs": [
    {
     "name": "stdout",
     "output_type": "stream",
     "text": [
      "The initial point is [10 99]\n",
      "\n",
      "  k|        x         | alpha |       step       \n",
      "  0| (10.000 99.000 ) | 0.125 | (-20.099 -791.010 )\n",
      "  1| ( 7.486  0.077 ) | 0.500 | (-14.974  0.097 )\n",
      "  2| (-0.000  0.125 ) | 1.000 | ( 0.000 -0.000 )\n",
      "\n",
      "TOTAL ITERATIONS: 2\n",
      "SOLUTION: x    = (-0.000  0.125 )\n",
      "VALUE:    f(x) =   3.9375000\n",
      "\n"
     ]
    },
    {
     "data": {
      "image/png": "[encoded data removed]",
      "text/plain": [
       "<matplotlib.figure.Figure at 0x1165c4cc0>"
      ]
     },
     "metadata": {},
     "output_type": "display_data"
    }
   ],
   "source": [
    "DIM = 2\n",
    "x0 = np.zeros(DIM)\n",
    "x0 = np.array([10,99])\n",
    "optimization = NOM(f_type='q',A=np.array([[2, 0.001], [0.001, 8]]), \n",
    "                   b=np.array([0, -1]), c=4, x=x0)\n",
    "x = optimization.Quasi_Newton()\n",
    "plt.show()"
   ]
  },
  {
   "cell_type": "markdown",
   "metadata": {},
   "source": [
    "### ЗВИЧАЙНА ФУНКЦІЯ"
   ]
  },
  {
   "cell_type": "code",
   "execution_count": 476,
   "metadata": {
    "collapsed": false
   },
   "outputs": [
    {
     "name": "stdout",
     "output_type": "stream",
     "text": [
      "The initial point is [1 2]\n",
      "\n",
      "  k|        x         | alpha |       step       \n",
      "  0| ( 1.000  2.000 ) | 0.062 | (-16.000 -40.000 )\n",
      "  1| (-0.000 -0.500 ) | 0.250 | ( 3.059 -1.381 )\n",
      "  2| ( 0.765 -0.845 ) | 1.000 | (-0.119  0.263 )\n",
      "  3| ( 0.646 -0.582 ) | 0.000 | (-0.139 -0.023 )\n",
      "\n",
      "TOTAL ITERATIONS: 3\n",
      "SOLUTION: x    = ( 0.646 -0.582 )\n",
      "VALUE:    f(x) =   0.9880159\n",
      "\n"
     ]
    },
    {
     "data": {
      "image/png": "[encoded data removed]",
      "text/plain": [
       "<matplotlib.figure.Figure at 0x1165dfb38>"
      ]
     },
     "metadata": {},
     "output_type": "display_data"
    }
   ],
   "source": [
    "x0 = np.array([1,2])\n",
    "optimization = NOM(f_type='n',func=f_test1, x=x0)\n",
    "optimization.Quasi_Newton()\n",
    "plt.show()"
   ]
  },
  {
   "cell_type": "markdown",
   "metadata": {},
   "source": [
    "# СПРЯЖЕНИХ НАПРЯМКІВ"
   ]
  },
  {
   "cell_type": "markdown",
   "metadata": {},
   "source": [
    "### КВАДРАТИЧНА ФУНКЦІЯ"
   ]
  },
  {
   "cell_type": "code",
   "execution_count": 477,
   "metadata": {
    "collapsed": false
   },
   "outputs": [
    {
     "name": "stdout",
     "output_type": "stream",
     "text": [
      "The initial point is [ 10 -23]\n",
      "\n",
      "  k|        x         | alpha |       step       \n",
      "  0| (10.000 -23.000 ) | 0.126 | (-19.977 184.990 )\n",
      "  1| ( 7.481  0.326 ) | 0.496 | (-15.093 -0.406 )\n",
      "  2| (-0.000  0.125 ) | 0.125 | (-0.000  0.000 )\n",
      "\n",
      "TOTAL ITERATIONS: 2\n",
      "SOLUTION: x    = (-0.000  0.125 )\n",
      "VALUE:    f(x) =   3.9375000\n",
      "\n"
     ]
    },
    {
     "data": {
      "image/png": "[encoded data removed]",
      "text/plain": [
       "<matplotlib.figure.Figure at 0x12657c240>"
      ]
     },
     "metadata": {},
     "output_type": "display_data"
    }
   ],
   "source": [
    "DIM = 2\n",
    "x0 = np.zeros(DIM)\n",
    "x0 = np.array([10,-23])\n",
    "optimization = NOM(f_type='q',A=np.array([[2, 0.001], [0.001, 8]]), \n",
    "                   b=np.array([0, -1]), c=4, x=x0)\n",
    "optimization.conjugate_directions()\n",
    "plt.show()"
   ]
  },
  {
   "cell_type": "markdown",
   "metadata": {},
   "source": [
    "### ЗВИЧАЙНА ФУНКЦІЯ"
   ]
  },
  {
   "cell_type": "code",
   "execution_count": 478,
   "metadata": {
    "collapsed": false
   },
   "outputs": [
    {
     "name": "stdout",
     "output_type": "stream",
     "text": [
      "The initial point is [1 2]\n",
      "\n",
      "  k|        x         | alpha |       step       \n",
      "  0| ( 1.000  2.000 ) | 0.062 | (-16.000 -40.000 )\n",
      "  1| (-0.000 -0.500 ) | 0.016 | ( 3.754 58.962 )\n",
      "  2| ( 0.059  0.421 ) | 0.250 | ( 3.958 -0.305 )\n",
      "  3| ( 1.048  0.345 ) | 0.125 | (-1.104 -1.680 )\n",
      "  4| ( 0.910  0.135 ) | 0.125 | ( 0.919 -0.457 )\n",
      "  5| ( 1.025  0.078 ) | 0.125 | (-0.331 -0.329 )\n",
      "  6| ( 0.984  0.037 ) | 0.125 | ( 0.189 -0.142 )\n",
      "  7| ( 1.007  0.019 ) | 0.125 | (-0.088 -0.077 )\n",
      "  8| ( 0.996  0.009 ) | 0.125 | ( 0.046 -0.037 )\n",
      "  9| ( 1.002  0.005 ) | 0.125 | (-0.022 -0.019 )\n",
      " 10| ( 0.999  0.002 ) | 0.125 | ( 0.011 -0.009 )\n",
      " 11| ( 1.000  0.001 ) | 0.125 | (-0.006 -0.005 )\n",
      " 12| ( 1.000  0.001 ) | 0.125 | ( 0.003 -0.002 )\n",
      " 13| ( 1.000  0.000 ) | 0.125 | (-0.001 -0.001 )\n",
      " 14| ( 1.000  0.000 ) | 0.125 | ( 0.001 -0.001 )\n",
      " 15| ( 1.000  0.000 ) | 0.125 | (-0.000 -0.000 )\n",
      " 16| ( 1.000  0.000 ) | 0.125 | ( 0.000 -0.000 )\n",
      " 17| ( 1.000  0.000 ) | 0.125 | (-0.000 -0.000 )\n",
      " 18| ( 1.000  0.000 ) | 0.125 | ( 0.000 -0.000 )\n",
      " 19| ( 1.000  0.000 ) | 0.125 | (-0.000 -0.000 )\n",
      " 20| ( 1.000  0.000 ) | 0.250 | ( 0.000 -0.000 )\n",
      " 21| ( 1.000  0.000 ) | 0.062 | (-0.000 -0.000 )\n",
      " 22| ( 1.000  0.000 ) | 0.016 | (-0.000 -0.000 )\n",
      " 23| ( 1.000  0.000 ) | 0.001 | (-0.000 -0.000 )\n",
      " 24| ( 1.000  0.000 ) | 0.000 | (-0.000 -0.000 )\n",
      "\n",
      "TOTAL ITERATIONS: 24\n",
      "SOLUTION: x    = ( 1.000  0.000 )\n",
      "VALUE:    f(x) =   0.0000000\n",
      "\n"
     ]
    },
    {
     "data": {
      "image/png": "[encoded data removed]",
      "text/plain": [
       "<matplotlib.figure.Figure at 0x126a0b240>"
      ]
     },
     "metadata": {},
     "output_type": "display_data"
    }
   ],
   "source": [
    "x0 = np.array([1,2])\n",
    "optimization = NOM(f_type='n',func=f_test1, x=x0)\n",
    "optimization.conjugate_directions()\n",
    "plt.show()"
   ]
  },
  {
   "cell_type": "code",
   "execution_count": 469,
   "metadata": {
    "collapsed": false
   },
   "outputs": [],
   "source": [
    "### TARGET FUNCTIONS \n",
    "def f_test1(x):\n",
    "    # The true solution of the problem is (1, 0)\n",
    "    # The value of function in this point is 0\n",
    "    DIM = 2\n",
    "    return x[0]**4 + x[1]**4 + 2 * x[0]**2 * x[1]**2 - 4 * x[0] + 3\n",
    "\n",
    "def f_test2(x):\n",
    "    # The true solution of the problem is (2.39395,2.39395)\n",
    "    # The value of function in this point is 5.10682\n",
    "    DIM = 2\n",
    "    return (x[0]**2 + x[1]**2 - 11)**2 +(x[0] + x[1] - 7)**2\n",
    "\n",
    "def f_test3(x):\n",
    "    # The true solution of the problem is (5, 3)\n",
    "    # The value of function in this point is 0\n",
    "    DIM = 2\n",
    "    return ((x[0]**2 + 12 * x[1]**2 - 1)**2 + \n",
    "            (49 * x[0]**2 + 49 * x[1]**2 + 84 * x[0] + 232 * x[1] - 681)**2)\n",
    "\n",
    "def f_test4(x):\n",
    "    # The true solution of the problem is (5, 3)\n",
    "    # The value of function in this point is 0\n",
    "    DIM = 2\n",
    "    return 4 * (x[0] - 5)**2 + (2 * x[1] - 6)**2\n",
    "\n",
    "def f_test5(x):\n",
    "    # The true solution of the problem is (1, 1)\n",
    "    # The value of function in this point is -1\n",
    "    DIM = 2\n",
    "    return x[0]**3 + x[1]**2 - 3 * x[0] - 2 * x[1] + 2\n",
    "\n",
    "def f_myvar(x):  \n",
    "    # The true solution of the problem is (-0.0000625,  0.1250000)\n",
    "    # The value of function in this point is  2.5626251\n",
    "    DIM = 2\n",
    "    return x[0]**2 + 4.0 * x[1]**2 + 0.001 * x[0] * x[1] - x[1]  \n",
    "\n",
    "def f_Rosenbrock(x):\n",
    "    # The true solution of the problem is (1, 1)\n",
    "    # The value of function in this point is 0\n",
    "    DIM = 2\n",
    "    return 100.0 * (x[1] - x[0]**2)**2 + (1.0 - x[0])**2 "
   ]
  },
  {
   "cell_type": "code",
   "execution_count": null,
   "metadata": {
    "collapsed": true
   },
   "outputs": [],
   "source": []
  }
 ],
 "metadata": {
  "kernelspec": {
   "display_name": "Python 3",
   "language": "python",
   "name": "python3"
  },
  "language_info": {
   "codemirror_mode": {
    "name": "ipython",
    "version": 3
   },
   "file_extension": ".py",
   "mimetype": "text/x-python",
   "name": "python",
   "nbconvert_exporter": "python",
   "pygments_lexer": "ipython3",
   "version": "3.6.0"
  }
 },
 "nbformat": 4,
 "nbformat_minor": 2
}
