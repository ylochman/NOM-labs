{
 "cells": [
  {
   "cell_type": "code",
   "execution_count": 692,
   "metadata": {
    "collapsed": false
   },
   "outputs": [],
   "source": [
    "import numpy as np\n",
    "from scipy.optimize import minimize\n",
    "import matplotlib.pyplot as plt"
   ]
  },
  {
   "cell_type": "code",
   "execution_count": 693,
   "metadata": {
    "collapsed": false
   },
   "outputs": [],
   "source": [
    "MAX_COUNT_ITER = 1000\n",
    "OUT_ITER = 31\n",
    "DIM = 2\n",
    "h = 10**(-5) * np.ones(DIM)\n",
    "eps = 10**(-5)\n",
    "fout = open('output_quasi_newton.txt', 'w+')\n",
    "\n",
    "f_type = 'n'\n",
    "def func(x):\n",
    "    return 100.0 * (x[1] - x[0]**2)**2 + (1.0 - x[0])**2 \n",
    "\n",
    "# x[0]**2 + 4.0 * x[1]**2 + 0.001 * x[0] * x[1] - x[1]  \n",
    "# x[0]**2+1000*x[1]**2+0.012*x[0]*x[1]-2*x[0]+x[1]\n",
    "# x[0]**2+500*x[1]**2+2*(x[0]-200)*(x[1]+6)\n",
    "# x[0]**4 + x[1]**4 + 2 * x[0]**2 * x[1]**2 - 4 * x[0] + 3 # COOL\n",
    "# 4 * (x[0] - 5)**2 + (2 * x[1] - 6)**2\n",
    "# x[0]**3 + x[1]**2 - 3 * x[0] - 2 * x[1] + 2\n",
    "\n",
    "\n",
    "# (1-x[0])**2+100*(x[1]-x[0]*x[0])**2 #1,3\n",
    "# ((x[0]-2)**2+10*(x[1]+13)**2+2*(x[0]-2)*(x[1]+13))**2 #1,3\n",
    "\n",
    "\n",
    "# 100.0 * (x[1] - x[0]**2)**2 + (1.0 - x[0])**2 #1,3 !!!"
   ]
  },
  {
   "cell_type": "code",
   "execution_count": 694,
   "metadata": {
    "collapsed": true
   },
   "outputs": [],
   "source": [
    "def vec_str(vec):\n",
    "    str = '('\n",
    "    for i in range(DIM):\n",
    "        str += '{:>6.3f} '.format(vec[i]);            \n",
    "    str += ')'\n",
    "    return str\n",
    "\n",
    "def vec_str_long(vec):\n",
    "    str = '('\n",
    "    for i in range(DIM):\n",
    "        str += '{:>14.11f} '.format(vec[i]);            \n",
    "    str += ')'\n",
    "    return str\n",
    "\n",
    "### OUTPUT\n",
    "def fout_init(x0):\n",
    "    print('The initial point is {}\\n'.format(x0))\n",
    "    print('  k|'+' '*8+'x'+' '*9+'|'+' alpha '+ '|'+' '*7+'step'+' '*7)\n",
    "    fout.write('The initial point is {}\\n\\n'.format(x0))\n",
    "    fout.write('  k|'+' '*16+'x'+' '*17+'|'+' '*5+'alpha'+' '*5+ '|'+' '*15+\n",
    "               'step'+' '*15+'\\n')\n",
    "    pass\n",
    "\n",
    "def fout_inter(k,alpha,x,step):\n",
    "    str_k = '{:>3}| '.format(k)\n",
    "    str_alpha =' | {:<13.11f} | '.format(alpha)\n",
    "    fout.write(str_k + vec_str_long(x) + str_alpha + vec_str_long(step) + '\\n')\n",
    "    pass\n",
    "\n",
    "def fout_result(k,x):\n",
    "    fout.write('\\nTOTAL ITERATIONS: {}\\n'.format(k))\n",
    "    fout.write('SOLUTION: x    = ' + vec_str(x)+'\\n')\n",
    "    fout.write('VALUE:    f(x) =  {:>10.7f}\\n'.format(func(x)))\n",
    "    pass\n",
    "\n",
    "def print_inter(k,alpha,x,step):\n",
    "    str_k = '{:>3}| '.format(k)\n",
    "    str_alpha =' | {:<5.3f} | '.format(alpha)\n",
    "    print(str_k+vec_str(x)+str_alpha+vec_str(step))\n",
    "    pass\n",
    "\n",
    "\n",
    "def print_result(k,x):\n",
    "    print('\\nTOTAL ITERATIONS: {}'.format(k))\n",
    "    print('SOLUTION: x    = ' + vec_str(x))\n",
    "    print('VALUE:    f(x) =  {:>10.7f}\\n'.format(func(x)))\n",
    "    pass"
   ]
  },
  {
   "cell_type": "code",
   "execution_count": 695,
   "metadata": {
    "collapsed": true
   },
   "outputs": [],
   "source": [
    "def grad(x):\n",
    "    if (f_type == 'q'):\n",
    "        return A @ x + b\n",
    "    else:\n",
    "        I = np.eye(DIM)\n",
    "        return np.array([(func(x + h * I_vec) - func(x - h * I_vec))\n",
    "                         / (2.0 * (h @ I_vec)) for I_vec in I])"
   ]
  },
  {
   "cell_type": "code",
   "execution_count": 696,
   "metadata": {
    "collapsed": false
   },
   "outputs": [],
   "source": [
    "def stop(k,xk0,xk1,eps):\n",
    "    fout.write('STOP CONDITION: '+ 'grad: '+str(np.linalg.norm(grad(xk1)))+'  norm(x-y):  '+str(np.linalg.norm(xk1-xk0))+'  abs(f(x)-f(y))): '+str(abs(func(xk1)-func(xk0))))\n",
    "    fout.write('\\n')\n",
    "    plt.xlabel('iteration')\n",
    "    plt.ylabel('| f(x_next) - f(x_prev) | ')  \n",
    "    plt.scatter(k, np.linalg.norm(xk0-xk1))\n",
    "    if(np.linalg.norm(grad(xk1))<eps and (np.linalg.norm(xk0-xk1))<eps and abs(func(xk0)-func(xk1))<eps):\n",
    "        return True\n",
    "    else:\n",
    "        return False"
   ]
  },
  {
   "cell_type": "code",
   "execution_count": 697,
   "metadata": {
    "collapsed": false
   },
   "outputs": [],
   "source": [
    "beta = 1/2\n",
    "def alpha(x_k1,hk):\n",
    "    l = 1/2\n",
    "    while True:\n",
    "        t = x_k1 - l * hk\n",
    "        if(func(t)<=func(x_k1)):\n",
    "            return l\n",
    "        l = l * beta\n",
    "\n",
    "def alpha_min(x_k0,hk):\n",
    "    def func1(a):\n",
    "        return func(x_k0+a*hk)\n",
    "    return (minimize(func1,1,method='BFGS').x)"
   ]
  },
  {
   "cell_type": "markdown",
   "metadata": {},
   "source": [
    "# Symmetric rank-one"
   ]
  },
  {
   "cell_type": "code",
   "execution_count": 698,
   "metadata": {
    "collapsed": false
   },
   "outputs": [
    {
     "name": "stdout",
     "output_type": "stream",
     "text": [
      "The initial point is [ 0.  0.]\n",
      "\n",
      "  k|        x         | alpha |       step       \n",
      "  1| ( 2.000  0.000 ) | 1.000 | ( 2.000 -0.000 )\n",
      "  2| ( 0.119  0.470 ) | 1.000 | (-1.881  0.470 )\n",
      "  3| (-0.132 -0.535 ) | 1.000 | (-0.251 -1.005 )\n",
      "  4| ( 0.030  0.048 ) | 1.000 | ( 0.162  0.583 )\n",
      "  5| ( 0.021  0.008 ) | 1.000 | (-0.008 -0.041 )\n",
      "  6| ( 0.022  0.003 ) | 1.000 | ( 0.000 -0.005 )\n",
      "  7| (-0.094 -0.005 ) | 1.000 | (-0.115 -0.007 )\n",
      "  8| ( 0.446 -0.024 ) | 1.000 | ( 0.540 -0.019 )\n",
      "  9| (-0.039  0.015 ) | 1.000 | (-0.485  0.039 )\n",
      " 10| (-0.019  0.011 ) | 1.000 | ( 0.020 -0.004 )\n",
      " 11| (-0.866  0.064 ) | 1.000 | (-0.847  0.053 )\n",
      " 12| (-0.002 -0.005 ) | 1.000 | ( 0.864 -0.069 )\n",
      " 13| ( 0.006 -0.006 ) | 1.000 | ( 0.007 -0.001 )\n",
      " 14| ( 0.458  0.001 ) | 1.000 | ( 0.453  0.008 )\n",
      " 15| ( 0.046  0.010 ) | 1.000 | (-0.413  0.009 )\n",
      " 16| ( 0.071  0.013 ) | 1.000 | ( 0.025  0.003 )\n",
      " 17| (-1.508 -0.174 ) | 1.000 | (-1.578 -0.187 )\n",
      " 18| ( 0.075  0.005 ) | 1.000 | ( 1.583  0.179 )\n",
      " 19| ( 0.078  0.003 ) | 1.000 | ( 0.002 -0.001 )\n",
      " 20| ( 0.128  0.002 ) | 1.000 | ( 0.050 -0.001 )\n",
      " 21| (-0.497 -0.218 ) | 1.000 | (-0.625 -0.220 )\n",
      " 22| ( 0.129  0.015 ) | 1.000 | ( 0.626  0.233 )\n",
      " 23| ( 0.144  0.012 ) | 1.000 | ( 0.015 -0.003 )\n",
      " 24| ( 0.125 -0.004 ) | 1.000 | (-0.018 -0.016 )\n",
      " 25| ( 0.392  0.086 ) | 1.000 | ( 0.267  0.089 )\n",
      " 26| ( 0.238  0.057 ) | 1.000 | (-0.154 -0.028 )\n",
      " 27| ( 0.286  0.078 ) | 1.000 | ( 0.048  0.021 )\n",
      " 28| ( 0.727  0.296 ) | 1.000 | ( 0.441  0.217 )\n",
      " 29| ( 0.305  0.094 ) | 1.000 | (-0.422 -0.202 )\n",
      " 30| ( 0.322  0.106 ) | 1.000 | ( 0.017  0.012 )\n",
      "...\n",
      "\n",
      "TOTAL ITERATIONS: 137\n",
      "SOLUTION: x    = ( 1.000  1.000 )\n",
      "VALUE:    f(x) =   0.0000000\n",
      "\n"
     ]
    },
    {
     "data": {
      "image/png": "[encoded data removed]",
      "text/plain": [
       "<matplotlib.figure.Figure at 0x10db74630>"
      ]
     },
     "metadata": {},
     "output_type": "display_data"
    }
   ],
   "source": [
    "#classroom\n",
    "#Symmetric rank-one method\n",
    "\n",
    "def delta(Hk,k,xk0,xk1):\n",
    "    dx = xk1 - xk0\n",
    "    dy = grad(xk1) - grad(xk0)\n",
    "    z = dx - Hk @ dy\n",
    "    d = np.multiply((dx - Hk @ dy),(z.reshape(DIM,1)))/(z@dy)\n",
    "    return d\n",
    "    \n",
    "\n",
    "def HkSR1(Hk,k,xk0,xk1):\n",
    "    if k==1:\n",
    "        return np.eye(DIM)\n",
    "    else:\n",
    "        return Hk+delta(Hk,k,xk0,xk1)\n",
    "i = 0\n",
    "flag = True\n",
    "xk0 = np.zeros(DIM)\n",
    "xk1 = np.zeros(DIM)\n",
    "H = np.zeros((DIM,DIM))\n",
    "\n",
    "fout.write('\\n----------------------------------------------------------------------------------')\n",
    "fout.write('\\nSymmetric rank-one method:\\n')\n",
    "fout_init(xk0)\n",
    "\n",
    "while (i < MAX_COUNT_ITER):\n",
    "    i = i+1\n",
    "    H = HkSR1(H,i,xk0,xk1)\n",
    "    xk0 = xk1\n",
    "    step = - (H @ grad(xk0))\n",
    "    xk1 = xk0 + step\n",
    "    fout_inter(i,1,xk1,step)\n",
    "    if i < OUT_ITER:\n",
    "        print_inter(i,1,xk1,step)\n",
    "    else:\n",
    "        if flag == True:\n",
    "            print('...')\n",
    "            flag = False   \n",
    "    if(stop(i,xk0,xk1,eps)):\n",
    "        break\n",
    "fout_result(i,xk1)\n",
    "print_result(i,xk1)\n",
    "plt.show()"
   ]
  },
  {
   "cell_type": "markdown",
   "metadata": {},
   "source": [
    "# Davidon–Fletcher–Powell"
   ]
  },
  {
   "cell_type": "code",
   "execution_count": 699,
   "metadata": {
    "collapsed": false
   },
   "outputs": [
    {
     "name": "stdout",
     "output_type": "stream",
     "text": [
      "The initial point is [ 0.  0.]\n",
      "\n",
      "  k|        x         | alpha |       step       \n",
      "  1| ( 2.000  0.000 ) | 1.000 | ( 0.000  0.000 )\n",
      "  2| ( 0.119  0.470 ) | 1.000 | ( 0.000  0.000 )\n",
      "  3| (-10.511 -38.096 ) | 1.000 | ( 0.000  0.000 )\n",
      "  4| ( 0.140 -0.088 ) | 1.000 | ( 0.000  0.000 )\n",
      "  5| ( 0.135  0.044 ) | 1.000 | ( 0.000  0.000 )\n",
      "  6| ( 0.136  0.018 ) | 1.000 | ( 0.000  0.000 )\n",
      "  7| ( 0.136  0.018 ) | 1.000 | ( 0.000  0.000 )\n",
      "  8| ( 0.154  0.011 ) | 1.000 | ( 0.000  0.000 )\n",
      "  9| ( 0.153  0.011 ) | 1.000 | ( 0.000  0.000 )\n",
      " 10| ( 0.152  0.012 ) | 1.000 | ( 0.000  0.000 )\n",
      " 11| ( 0.151  0.012 ) | 1.000 | ( 0.000  0.000 )\n",
      " 12| ( 0.151  0.012 ) | 1.000 | ( 0.000  0.000 )\n",
      " 13| ( 0.150  0.013 ) | 1.000 | ( 0.000  0.000 )\n",
      " 14| ( 0.149  0.013 ) | 1.000 | ( 0.000  0.000 )\n",
      " 15| ( 0.148  0.014 ) | 1.000 | ( 0.000  0.000 )\n",
      " 16| ( 0.148  0.014 ) | 1.000 | ( 0.000  0.000 )\n",
      " 17| ( 0.147  0.015 ) | 1.000 | ( 0.000  0.000 )\n",
      " 18| ( 0.147  0.015 ) | 1.000 | ( 0.000  0.000 )\n",
      " 19| ( 0.147  0.016 ) | 1.000 | ( 0.000  0.000 )\n",
      " 20| ( 0.147  0.017 ) | 1.000 | ( 0.000  0.000 )\n",
      " 21| ( 0.146  0.018 ) | 1.000 | ( 0.000  0.000 )\n",
      " 22| ( 0.146  0.018 ) | 1.000 | ( 0.000  0.000 )\n",
      " 23| ( 0.146  0.019 ) | 1.000 | ( 0.000  0.000 )\n",
      " 24| ( 0.146  0.019 ) | 1.000 | ( 0.000  0.000 )\n",
      " 25| ( 0.146  0.020 ) | 1.000 | ( 0.000  0.000 )\n",
      " 26| ( 0.146  0.020 ) | 1.000 | ( 0.000  0.000 )\n",
      " 27| ( 0.146  0.021 ) | 1.000 | ( 0.000  0.000 )\n",
      " 28| ( 0.146  0.022 ) | 1.000 | ( 0.000  0.000 )\n",
      " 29| ( 0.146  0.023 ) | 1.000 | ( 0.000  0.000 )\n",
      " 30| ( 0.146  0.023 ) | 1.000 | ( 0.000  0.000 )\n",
      "...\n",
      "\n",
      "TOTAL ITERATIONS: 1000\n",
      "SOLUTION: x    = ( 0.649  0.479 )\n",
      "VALUE:    f(x) =   0.4541024\n",
      "\n"
     ]
    },
    {
     "data": {
      "image/png": "[encoded data removed]",
      "text/plain": [
       "<matplotlib.figure.Figure at 0x10d534470>"
      ]
     },
     "metadata": {},
     "output_type": "display_data"
    }
   ],
   "source": [
    "#Davidon–Fletcher–Powell method\n",
    "def HkDFP(Hk,k,xk0,xk1):\n",
    "    if k==1:\n",
    "        return np.eye(DIM)\n",
    "    else:\n",
    "        dx = xk1 - xk0\n",
    "        dy = grad(xk1) - grad(xk0)\n",
    "        d = Hk + np.multiply(dx,dx.reshape(DIM,1)) / (dx @ dy) - Hk @ (\n",
    "            (np.multiply(dy,dy.reshape(DIM,1))) @ Hk) / (dy @ (Hk @ dy))\n",
    "        return d\n",
    "i = 0\n",
    "flag = True\n",
    "xk0 = np.zeros(DIM)\n",
    "xk1 = np.zeros(DIM)\n",
    "H = np.zeros((DIM,DIM))\n",
    "\n",
    "fout.write('\\n----------------------------------------------------------------------------------')\n",
    "fout.write('\\nDavidon–Fletcher–Powell method:\\n')\n",
    "fout_init(xk0)\n",
    "\n",
    "\n",
    "while (i < MAX_COUNT_ITER):\n",
    "    i = i+1\n",
    "    H = HkDFP(H,i,xk0,xk1)\n",
    "    \n",
    "    xk0 = xk1\n",
    "    xk1 = xk0 - H @ grad(xk0)\n",
    "    fout_inter(i,1,xk1,step)\n",
    "    if i < OUT_ITER:\n",
    "        print_inter(i,1,xk1,step)\n",
    "    else:\n",
    "        if flag == True:\n",
    "            print('...')\n",
    "            flag = False   \n",
    "    if(stop(i,xk0,xk1,eps)):\n",
    "        break\n",
    "fout_result(i,xk1)\n",
    "print_result(i,xk1)\n",
    "plt.show()"
   ]
  },
  {
   "cell_type": "markdown",
   "metadata": {},
   "source": [
    "# Broyden"
   ]
  },
  {
   "cell_type": "code",
   "execution_count": 700,
   "metadata": {
    "collapsed": false
   },
   "outputs": [
    {
     "name": "stdout",
     "output_type": "stream",
     "text": [
      "The initial point is [ 0.  0.]\n",
      "\n",
      "  k|        x         | alpha |       step       \n",
      "  1| ( 2.000  0.000 ) | 1.000 | ( 0.000  0.000 )\n",
      "  2| ( 0.001  0.499 ) | 1.000 | ( 0.000  0.000 )\n",
      "  3| ( 0.001 -7.330 ) | 1.000 | ( 0.000  0.000 )\n",
      "  4| ( 0.002  0.003 ) | 1.000 | ( 0.000  0.000 )\n",
      "  5| ( 0.004  0.003 ) | 1.000 | ( 0.000  0.000 )\n",
      "  6| ( 1.163  0.009 ) | 1.000 | ( 0.000  0.000 )\n",
      "  7| ( 0.008  0.004 ) | 1.000 | ( 0.000  0.000 )\n",
      "  8| ( 0.011  0.004 ) | 1.000 | ( 0.000  0.000 )\n",
      "  9| (-4.944 -0.088 ) | 1.000 | ( 0.000  0.000 )\n",
      " 10| ( 0.011 -0.001 ) | 1.000 | ( 0.000  0.000 )\n",
      " 11| ( 0.012 -0.001 ) | 1.000 | ( 0.000  0.000 )\n",
      " 12| ( 0.012 -0.001 ) | 1.000 | ( 0.000  0.000 )\n",
      " 13| ( 0.016 -0.001 ) | 1.000 | ( 0.000  0.000 )\n",
      " 14| ( 0.092  0.001 ) | 1.000 | ( 0.000  0.000 )\n",
      " 15| ( 0.021 -0.000 ) | 1.000 | ( 0.000  0.000 )\n",
      " 16| ( 0.028  0.000 ) | 1.000 | ( 0.000  0.000 )\n",
      " 17| (-0.011 -0.002 ) | 1.000 | ( 0.000  0.000 )\n",
      " 18| ( 0.008 -0.001 ) | 1.000 | ( 0.000  0.000 )\n",
      " 19| (-0.001 -0.001 ) | 1.000 | ( 0.000  0.000 )\n",
      " 20| (-0.016 -0.001 ) | 1.000 | ( 0.000  0.000 )\n",
      " 21| (-0.018 -0.001 ) | 1.000 | ( 0.000  0.000 )\n",
      " 22| (-0.016 -0.001 ) | 1.000 | ( 0.000  0.000 )\n",
      " 23| (-0.048  0.000 ) | 1.000 | ( 0.000  0.000 )\n",
      " 24| (-0.031  0.000 ) | 1.000 | ( 0.000  0.000 )\n",
      " 25| (-0.041  0.001 ) | 1.000 | ( 0.000  0.000 )\n",
      " 26| (-0.069  0.003 ) | 1.000 | ( 0.000  0.000 )\n",
      " 27| (-0.054  0.002 ) | 1.000 | ( 0.000  0.000 )\n",
      " 28| (-0.062  0.003 ) | 1.000 | ( 0.000  0.000 )\n",
      " 29| (-0.092  0.006 ) | 1.000 | ( 0.000  0.000 )\n",
      " 30| (-0.076  0.005 ) | 1.000 | ( 0.000  0.000 )\n",
      "...\n",
      "\n",
      "TOTAL ITERATIONS: 312\n",
      "SOLUTION: x    = ( 1.000  1.000 )\n",
      "VALUE:    f(x) =   0.0000000\n",
      "\n"
     ]
    },
    {
     "data": {
      "image/png": "[encoded data removed]",
      "text/plain": [
       "<matplotlib.figure.Figure at 0x10d733320>"
      ]
     },
     "metadata": {},
     "output_type": "display_data"
    }
   ],
   "source": [
    "# Broyden method\n",
    "def HkBROYDEN(Hk,k,xk0,xk1):\n",
    "    if k==1:\n",
    "        return np.eye(DIM)\n",
    "    else:\n",
    "        dx = xk1 - xk0\n",
    "        dy = grad(xk1) - grad(xk0)\n",
    "        return Hk + (np.multiply((dx - Hk @ dy),dx.reshape(DIM,1)).T) @ Hk / (dx @ (Hk @ dy))\n",
    "    \n",
    "i = 0\n",
    "flag = True\n",
    "xk0 = np.zeros(DIM)\n",
    "xk1 = np.zeros(DIM)\n",
    "H = np.zeros((DIM,DIM))\n",
    "\n",
    "fout.write('\\n----------------------------------------------------------------------------------')\n",
    "fout.write('\\nBroyden method:\\n')\n",
    "fout_init(xk0)\n",
    "                                                        \n",
    "while (i < MAX_COUNT_ITER):\n",
    "    i = i+1\n",
    "    H = HkBROYDEN(H,i,xk0,xk1)\n",
    "    \n",
    "    xk0 = xk1\n",
    "   \n",
    "    xk1 = xk0 - H @ grad(xk0)\n",
    "    fout_inter(i,1,xk1,step)\n",
    "    if i < OUT_ITER:\n",
    "        print_inter(i,1,xk1,step)\n",
    "    else:\n",
    "        if flag == True:\n",
    "            print('...')\n",
    "            flag = False   \n",
    "    if(stop(i,xk0,xk1,eps)):\n",
    "        break\n",
    "fout_result(i,xk1)\n",
    "print_result(i,xk1)\n",
    "plt.show()"
   ]
  },
  {
   "cell_type": "code",
   "execution_count": 701,
   "metadata": {
    "collapsed": false
   },
   "outputs": [
    {
     "name": "stdout",
     "output_type": "stream",
     "text": [
      "Optimization terminated successfully.\n",
      "         Current function value: 0.000000\n",
      "         Iterations: 19\n",
      "         Function evaluations: 96\n",
      "         Gradient evaluations: 24\n",
      "\n",
      "TOTAL ITERATIONS: 19\n",
      "SOLUTION: x    = ( 1.000  1.000 )\n",
      "VALUE:    f(x) =   0.0000000\n",
      "\n"
     ]
    }
   ],
   "source": [
    "from scipy.optimize import minimize, rosen, rosen_der\n",
    "opt = minimize(func,[0,0],method='BFGS',options={'disp': True})\n",
    "\n",
    "print('\\nTOTAL ITERATIONS: {}'.format(opt.nit))\n",
    "print('SOLUTION: x    = ' + vec_str(opt.x))\n",
    "print('VALUE:    f(x) =  {:>10.7f}\\n'.format(func(opt.x)))"
   ]
  },
  {
   "cell_type": "code",
   "execution_count": 702,
   "metadata": {
    "collapsed": true
   },
   "outputs": [],
   "source": [
    "fout.close()"
   ]
  }
 ],
 "metadata": {
  "kernelspec": {
   "display_name": "Python 3",
   "language": "python",
   "name": "python3"
  },
  "language_info": {
   "codemirror_mode": {
    "name": "ipython",
    "version": 3
   },
   "file_extension": ".py",
   "mimetype": "text/x-python",
   "name": "python",
   "nbconvert_exporter": "python",
   "pygments_lexer": "ipython3",
   "version": "3.6.0"
  }
 },
 "nbformat": 4,
 "nbformat_minor": 2
}
