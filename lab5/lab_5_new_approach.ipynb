{
 "cells": [
  {
   "cell_type": "code",
   "execution_count": 2,
   "metadata": {
    "collapsed": true
   },
   "outputs": [],
   "source": [
    "import numpy as np\n",
    "from numpy.linalg import norm\n",
    "import matplotlib.pyplot as plt\n",
    "from scipy.optimize import line_search\n",
    "from scipy.optimize import minimize"
   ]
  },
  {
   "cell_type": "code",
   "execution_count": 3,
   "metadata": {
    "collapsed": false
   },
   "outputs": [
    {
     "ename": "NameError",
     "evalue": "name 'DIM' is not defined",
     "output_type": "error",
     "traceback": [
      "\u001b[0;31m---------------------------------------------------------------------------\u001b[0m",
      "\u001b[0;31mNameError\u001b[0m                                 Traceback (most recent call last)",
      "\u001b[0;32m<ipython-input-3-e536ce6171b9>\u001b[0m in \u001b[0;36m<module>\u001b[0;34m()\u001b[0m\n\u001b[1;32m      2\u001b[0m \u001b[0mMAX_COUNT_ITER\u001b[0m \u001b[0;34m=\u001b[0m \u001b[0;36m1000\u001b[0m\u001b[0;34m\u001b[0m\u001b[0m\n\u001b[1;32m      3\u001b[0m \u001b[0mEPS\u001b[0m \u001b[0;34m=\u001b[0m \u001b[0;36m10\u001b[0m\u001b[0;34m**\u001b[0m\u001b[0;34m(\u001b[0m\u001b[0;34m-\u001b[0m\u001b[0;36m5\u001b[0m\u001b[0;34m)\u001b[0m\u001b[0;34m\u001b[0m\u001b[0m\n\u001b[0;32m----> 4\u001b[0;31m \u001b[0mh\u001b[0m \u001b[0;34m=\u001b[0m \u001b[0;36m0.001\u001b[0m \u001b[0;34m*\u001b[0m \u001b[0mnp\u001b[0m\u001b[0;34m.\u001b[0m\u001b[0mones\u001b[0m\u001b[0;34m(\u001b[0m\u001b[0mDIM\u001b[0m\u001b[0;34m)\u001b[0m\u001b[0;34m\u001b[0m\u001b[0m\n\u001b[0m\u001b[1;32m      5\u001b[0m \u001b[0mOUT_K\u001b[0m \u001b[0;34m=\u001b[0m \u001b[0;36m40\u001b[0m\u001b[0;34m\u001b[0m\u001b[0m\n\u001b[1;32m      6\u001b[0m \u001b[0mfreq\u001b[0m \u001b[0;34m=\u001b[0m \u001b[0;36m200\u001b[0m\u001b[0;34m\u001b[0m\u001b[0m\n",
      "\u001b[0;31mNameError\u001b[0m: name 'DIM' is not defined"
     ]
    }
   ],
   "source": [
    "### SETTINGS\n",
    "MAX_COUNT_ITER = 1000\n",
    "EPS = 10**(-5)\n",
    "h = 0.001 * np.ones(DIM)\n",
    "OUT_K = 40\n",
    "freq = 200 "
   ]
  },
  {
   "cell_type": "code",
   "execution_count": null,
   "metadata": {
    "collapsed": true
   },
   "outputs": [],
   "source": [
    "def vec_str(vec):\n",
    "    str = '('\n",
    "    for i in range(DIM):\n",
    "        str += '{:>6.3f} '.format(vec[i]);            \n",
    "    str += ')'\n",
    "    return str\n",
    "\n",
    "def vec_str_long(vec):\n",
    "    str = '('\n",
    "    for i in range(DIM):\n",
    "        str += '{:>14.11f} '.format(vec[i]);            \n",
    "    str += ')'\n",
    "    return str"
   ]
  },
  {
   "cell_type": "code",
   "execution_count": 11,
   "metadata": {
    "collapsed": false
   },
   "outputs": [
    {
     "ename": "IndentationError",
     "evalue": "expected an indented block (<ipython-input-11-469f73a4255b>, line 78)",
     "output_type": "error",
     "traceback": [
      "\u001b[0;36m  File \u001b[0;32m\"<ipython-input-11-469f73a4255b>\"\u001b[0;36m, line \u001b[0;32m78\u001b[0m\n\u001b[0;31m    file = open('output_QN1.txt','w+')\u001b[0m\n\u001b[0m       ^\u001b[0m\n\u001b[0;31mIndentationError\u001b[0m\u001b[0;31m:\u001b[0m expected an indented block\n"
     ]
    }
   ],
   "source": [
    "class NOM:\n",
    "    def __init__(self,f_type='n',func=0, A=np.zeros((DIM,DIM)),\n",
    "                 b=np.zeros(DIM), c=0, x=np.zeros(DIM)):\n",
    "        self.type=f_type\n",
    "        if (f_type == 'q'):\n",
    "            self.A = A\n",
    "            self.b = b\n",
    "            self.c = c\n",
    "            self.f = lambda x: (1/2) * ((A@x)@x) + b@x + c\n",
    "        else:\n",
    "            self.f = func\n",
    "        self.x0 = x\n",
    "        \n",
    "    def grad(self,x):\n",
    "        if (self.type == 'q'):\n",
    "            return self.A @ x + self.b\n",
    "        else:\n",
    "            I = np.eye(DIM)\n",
    "            return np.array([(self.f(x + h * I_vec) - self.f(x - h * I_vec))\n",
    "                             / (2.0 * (h @ I_vec)) for I_vec in I])\n",
    "    \n",
    "    def hesse(self, x):\n",
    "        I = np.eye(DIM)\n",
    "        return np.array([(self.grad(x + h * I_vec) - self.grad(x - h * I_vec))\n",
    "                         / (2.0 * (h @ I_vec)) for I_vec in I])\n",
    "    \n",
    "    \n",
    "    ### STOP CONDITIONS\n",
    "    def stop(self,x1,x2,k):\n",
    "        d1 = norm(x2-x1)\n",
    "        d2 = abs(self.f(x2)-self.f(x1))\n",
    "        d3 = norm(self.grad(x))\n",
    "        \n",
    "        plt.xlabel('iteration')\n",
    "        plt.ylabel('| f(x_next) - f(x_prev) | ')    \n",
    "        \n",
    "        condition = (d3 < EPS) and (d1 < EPS) and (d2 < EPS)\n",
    "        if not condition:\n",
    "            plt.scatter(k, d1)\n",
    "        return condition\n",
    "    \n",
    "    ### FINDING ALPHA\n",
    "    def alpha_quadr(self,x,step): \n",
    "        return -np.dot((self.A.dot(x)+self.b),step) / (self.A.dot(step) @ step)\n",
    "    \n",
    "    def alpha_split(self,x,step,b=1,l=0.5,q=0.1):\n",
    "        alpha = b\n",
    "        #while (f(x+alpha*step) >= f(x)):\n",
    "        while self.f(x+alpha*step) > self.f(x) + q * alpha * (self.grad(x) @ step):\n",
    "            alpha *= l\n",
    "        return alpha\n",
    "    \n",
    "    ### FINDING BETA\n",
    "    def beta_quadr(self,x_prev,x_next,step_prev):\n",
    "        return ((self.grad(x_next) @ self.A.dot(step_prev))\n",
    "                / (step_prev @ self.A.dot(step_prev)))\n",
    "    \n",
    "    def beta_non_quadr(self,x_prev,x_next,step_prev):\n",
    "        return ((self.grad(x_next) @ self.grad(x_next) - self.grad(x_prev))\n",
    "                / (self.grad(x_next) @ self.grad(x_next)))\n",
    "    \n",
    "    ########################################################################################\n",
    "    ### Квазі-Ньютонівські\n",
    "    def delta(self,H_pr,k,x_pr,x_nxt):\n",
    "        dx = x_nxt - x_pr\n",
    "        dy = self.grad(x_nxt) - self.grad(x_pr)\n",
    "        z = dx - H_pr@dy\n",
    "        d = np.multiply((dx-H_pr@dy),(z.reshape(n,1)))/(z@dy)\n",
    "        return d\n",
    "        \n",
    "    def H_QN1(self,H_pr,k,x_pr,xx_nxtk1):\n",
    "        if k==1:\n",
    "            return np.eye(n)\n",
    "        else:\n",
    "            return H_pr+delta(H_pr,k,x_pr,x_nxt)\n",
    "    \n",
    "    def Quasi_Newton(self):\n",
    "        file = open('output_QN1.txt','w+')\n",
    "        i = 0\n",
    "        x_pr = np.zeros(n)\n",
    "        x_nxt = np.zeros(n)\n",
    "        H = np.zeros((n,n))\n",
    "        file.write('\\nQuasi_Newton Method:\\n')\n",
    "        file.write('x[0] = '+str(x_pr)+'\\n')\n",
    "        while True:\n",
    "            i = i+1\n",
    "            H = H_QN1(H,i,x_pr,x_nxt)\n",
    "            x_pr = x_nxt\n",
    "            x_nxt = x_pr - (H @ self.grad(x_pr))\n",
    "            print(x_nxt)\n",
    "            file.write('iteration = '+str(i)+'\\n')\n",
    "            file.write('x_next = '+str(x_nxt)+' x_previous = '+str(x_pr)+'\\n')\n",
    "            if(stop(x_pr,x_nxt,i)):\n",
    "                break\n",
    "        print(i)\n",
    "        print(x_nxt)\n",
    "        file.write('\\nIterations : '+str(i))\n",
    "        file.write('\\nx : '+str(x_nxt))\n",
    "        file.write('\\nf(x) : '+str(func(x_nxt))+'\\n')\n",
    "        file.close()\n",
    "        pass    \n",
    "        \n",
    "        \n",
    "    \n",
    "    def delta_H(self,H_pr,x_nxt,x_pr):\n",
    "        dx = x_nxt - x_pr\n",
    "        dy = self.grad(x_nxt)-self.grad(x_pr)\n",
    "        z = dx - H_pr @ dy    \n",
    "        return np.outer(z,z) / (z @ dy)    \n",
    "    \n",
    "    def Quasi_Newton(self):\n",
    "        self.fout_begin('output_quasi_newton.txt')\n",
    "        self.fout_init(self.x0)\n",
    "        \n",
    "        k = -1\n",
    "        flag = True\n",
    "        find_alpha = self.alpha_quadr if self.type == 'q' else self.alpha_split\n",
    "        \n",
    "        x_nxt = self.x0\n",
    "        H_nxt = np.identity(DIM)\n",
    "\n",
    "        while (k < MAX_COUNT_ITER):\n",
    "            x_pr = x_nxt\n",
    "            H_pr = H_nxt\n",
    "            step_pr = - H_pr @ self.grad(x_pr)\n",
    "            alpha = find_alpha(x_pr,step_pr)\n",
    "            #alpha = line_search(self.f, self.grad, x_pr, step_pr)[0]\n",
    "            x_nxt = x_pr + alpha * step_pr \n",
    "            k += 1\n",
    "            if k < OUT_K:\n",
    "                self.print_inter(k,alpha,x_pr,step_pr)\n",
    "            else:\n",
    "                if flag == True:\n",
    "                    print('...')\n",
    "                    flag = False    \n",
    "            self.fout_inter(k,alpha,x_pr,step_pr)\n",
    "            if self.stop(x_pr,x_nxt,k) or (alpha < EPS):\n",
    "                break\n",
    "            else:\n",
    "                H_nxt = H_pr + self.delta_H(H_pr,x_nxt,x_pr)\n",
    "        self.fout_result(k,x_nxt)\n",
    "        self.print_result(k,x_nxt)\n",
    "        self.fout.close()\n",
    "        return x_nxt\n",
    "\n",
    "    ### OUTPUT\n",
    "    def fout_begin(self,filename):\n",
    "        self.fout = open(filename, 'w')\n",
    "        return\n",
    "    \n",
    "    def fout_init(self,x0):\n",
    "        print('The initial point is {}\\n'.format(self.x0))\n",
    "        print('  k|'+' '*8+'x'+' '*9+'|'+' alpha '+ '|'+' '*7+'step'+' '*7)\n",
    "        self.fout.write('The initial point is {}\\n\\n'.format(self.x0))\n",
    "        self.fout.write('  k|'+' '*16+'x'+' '*17+'|'+' '*5+'alpha'+' '*5+ '|'+' '*15+\n",
    "                   'step'+' '*15+'\\n')\n",
    "        pass\n",
    "    \n",
    "    def fout_inter(self,k,alpha,x,step):\n",
    "        str_k = '{:>3}| '.format(k)\n",
    "        str_alpha =' | {:<13.11f} | '.format(alpha)\n",
    "        self.fout.write(str_k + vec_str_long(x) + str_alpha + vec_str_long(step) + '\\n')\n",
    "        pass\n",
    "    \n",
    "    def fout_result(self,k,x):\n",
    "        self.fout.write('\\nTOTAL ITERATIONS: {}\\n'.format(k))\n",
    "        self.fout.write('SOLUTION: x    = ' + vec_str(x))\n",
    "        self.fout.write('VALUE:    f(x) =  {:>10.7f}\\n'.format(self.f(x)))\n",
    "        pass\n",
    "    \n",
    "    def print_inter(self,k,alpha,x,step):\n",
    "        str_k = '{:>3}| '.format(k)\n",
    "        str_alpha =' | {:<5.3f} | '.format(alpha)\n",
    "        print(str_k+vec_str(x)+str_alpha+vec_str(step))\n",
    "        pass\n",
    "    \n",
    "    \n",
    "    def print_result(self,k,x):\n",
    "        print('\\nTOTAL ITERATIONS: {}'.format(k))\n",
    "        print('SOLUTION: x    = ' + vec_str(x))\n",
    "        print('VALUE:    f(x) =  {:>10.7f}\\n'.format(self.f(x)))\n",
    "        pass"
   ]
  },
  {
   "cell_type": "markdown",
   "metadata": {},
   "source": [
    "# КВАЗІНЬЮТОНІВСЬКИЙ"
   ]
  },
  {
   "cell_type": "markdown",
   "metadata": {},
   "source": [
    "### КВАДРАТИЧНА ФУНКЦІЯ"
   ]
  },
  {
   "cell_type": "code",
   "execution_count": 4,
   "metadata": {
    "collapsed": false
   },
   "outputs": [
    {
     "ename": "NameError",
     "evalue": "name 'NOM' is not defined",
     "output_type": "error",
     "traceback": [
      "\u001b[0;31m---------------------------------------------------------------------------\u001b[0m",
      "\u001b[0;31mNameError\u001b[0m                                 Traceback (most recent call last)",
      "\u001b[0;32m<ipython-input-4-275072a324a7>\u001b[0m in \u001b[0;36m<module>\u001b[0;34m()\u001b[0m\n\u001b[1;32m      2\u001b[0m \u001b[0mx0\u001b[0m \u001b[0;34m=\u001b[0m \u001b[0mnp\u001b[0m\u001b[0;34m.\u001b[0m\u001b[0mzeros\u001b[0m\u001b[0;34m(\u001b[0m\u001b[0mDIM\u001b[0m\u001b[0;34m)\u001b[0m\u001b[0;34m\u001b[0m\u001b[0m\n\u001b[1;32m      3\u001b[0m \u001b[0mx0\u001b[0m \u001b[0;34m=\u001b[0m \u001b[0mnp\u001b[0m\u001b[0;34m.\u001b[0m\u001b[0marray\u001b[0m\u001b[0;34m(\u001b[0m\u001b[0;34m[\u001b[0m\u001b[0;36m10\u001b[0m\u001b[0;34m,\u001b[0m\u001b[0;36m99\u001b[0m\u001b[0;34m]\u001b[0m\u001b[0;34m)\u001b[0m\u001b[0;34m\u001b[0m\u001b[0m\n\u001b[0;32m----> 4\u001b[0;31m optimization = NOM(f_type='q',A=np.array([[2, 0.001], [0.001, 8]]), \n\u001b[0m\u001b[1;32m      5\u001b[0m                    b=np.array([0, -1]), c=4, x=x0)\n\u001b[1;32m      6\u001b[0m \u001b[0mx\u001b[0m \u001b[0;34m=\u001b[0m \u001b[0moptimization\u001b[0m\u001b[0;34m.\u001b[0m\u001b[0mQuasi_Newton\u001b[0m\u001b[0;34m(\u001b[0m\u001b[0;34m)\u001b[0m\u001b[0;34m\u001b[0m\u001b[0m\n",
      "\u001b[0;31mNameError\u001b[0m: name 'NOM' is not defined"
     ]
    }
   ],
   "source": [
    "DIM = 2\n",
    "x0 = np.zeros(DIM)\n",
    "x0 = np.array([10,99])\n",
    "optimization = NOM(f_type='q',A=np.array([[2, 0.001], [0.001, 8]]), \n",
    "                   b=np.array([0, -1]), c=4, x=x0)\n",
    "x = optimization.Quasi_Newton()\n",
    "plt.show()"
   ]
  },
  {
   "cell_type": "markdown",
   "metadata": {},
   "source": [
    "### ЗВИЧАЙНА ФУНКЦІЯ"
   ]
  },
  {
   "cell_type": "code",
   "execution_count": 5,
   "metadata": {
    "collapsed": false
   },
   "outputs": [
    {
     "ename": "NameError",
     "evalue": "name 'NOM' is not defined",
     "output_type": "error",
     "traceback": [
      "\u001b[0;31m---------------------------------------------------------------------------\u001b[0m",
      "\u001b[0;31mNameError\u001b[0m                                 Traceback (most recent call last)",
      "\u001b[0;32m<ipython-input-5-c7cca53080c5>\u001b[0m in \u001b[0;36m<module>\u001b[0;34m()\u001b[0m\n\u001b[1;32m      1\u001b[0m \u001b[0mx0\u001b[0m \u001b[0;34m=\u001b[0m \u001b[0mnp\u001b[0m\u001b[0;34m.\u001b[0m\u001b[0marray\u001b[0m\u001b[0;34m(\u001b[0m\u001b[0;34m[\u001b[0m\u001b[0;36m1\u001b[0m\u001b[0;34m,\u001b[0m\u001b[0;36m2\u001b[0m\u001b[0;34m]\u001b[0m\u001b[0;34m)\u001b[0m\u001b[0;34m\u001b[0m\u001b[0m\n\u001b[0;32m----> 2\u001b[0;31m \u001b[0moptimization\u001b[0m \u001b[0;34m=\u001b[0m \u001b[0mNOM\u001b[0m\u001b[0;34m(\u001b[0m\u001b[0mf_type\u001b[0m\u001b[0;34m=\u001b[0m\u001b[0;34m'n'\u001b[0m\u001b[0;34m,\u001b[0m\u001b[0mfunc\u001b[0m\u001b[0;34m=\u001b[0m\u001b[0mf_test1\u001b[0m\u001b[0;34m,\u001b[0m \u001b[0mx\u001b[0m\u001b[0;34m=\u001b[0m\u001b[0mx0\u001b[0m\u001b[0;34m)\u001b[0m\u001b[0;34m\u001b[0m\u001b[0m\n\u001b[0m\u001b[1;32m      3\u001b[0m \u001b[0moptimization\u001b[0m\u001b[0;34m.\u001b[0m\u001b[0mQuasi_Newton\u001b[0m\u001b[0;34m(\u001b[0m\u001b[0;34m)\u001b[0m\u001b[0;34m\u001b[0m\u001b[0m\n\u001b[1;32m      4\u001b[0m \u001b[0mplt\u001b[0m\u001b[0;34m.\u001b[0m\u001b[0mshow\u001b[0m\u001b[0;34m(\u001b[0m\u001b[0;34m)\u001b[0m\u001b[0;34m\u001b[0m\u001b[0m\n",
      "\u001b[0;31mNameError\u001b[0m: name 'NOM' is not defined"
     ]
    }
   ],
   "source": [
    "x0 = np.array([1,2])\n",
    "optimization = NOM(f_type='n',func=f_test1, x=x0)\n",
    "optimization.Quasi_Newton()\n",
    "plt.show()"
   ]
  },
  {
   "cell_type": "markdown",
   "metadata": {},
   "source": [
    "# СПРЯЖЕНИХ НАПРЯМКІВ"
   ]
  },
  {
   "cell_type": "markdown",
   "metadata": {},
   "source": [
    "### КВАДРАТИЧНА ФУНКЦІЯ"
   ]
  },
  {
   "cell_type": "code",
   "execution_count": 6,
   "metadata": {
    "collapsed": false
   },
   "outputs": [
    {
     "ename": "NameError",
     "evalue": "name 'NOM' is not defined",
     "output_type": "error",
     "traceback": [
      "\u001b[0;31m---------------------------------------------------------------------------\u001b[0m",
      "\u001b[0;31mNameError\u001b[0m                                 Traceback (most recent call last)",
      "\u001b[0;32m<ipython-input-6-09140d553bd5>\u001b[0m in \u001b[0;36m<module>\u001b[0;34m()\u001b[0m\n\u001b[1;32m      2\u001b[0m \u001b[0mx0\u001b[0m \u001b[0;34m=\u001b[0m \u001b[0mnp\u001b[0m\u001b[0;34m.\u001b[0m\u001b[0mzeros\u001b[0m\u001b[0;34m(\u001b[0m\u001b[0mDIM\u001b[0m\u001b[0;34m)\u001b[0m\u001b[0;34m\u001b[0m\u001b[0m\n\u001b[1;32m      3\u001b[0m \u001b[0mx0\u001b[0m \u001b[0;34m=\u001b[0m \u001b[0mnp\u001b[0m\u001b[0;34m.\u001b[0m\u001b[0marray\u001b[0m\u001b[0;34m(\u001b[0m\u001b[0;34m[\u001b[0m\u001b[0;36m10\u001b[0m\u001b[0;34m,\u001b[0m\u001b[0;34m-\u001b[0m\u001b[0;36m23\u001b[0m\u001b[0;34m]\u001b[0m\u001b[0;34m)\u001b[0m\u001b[0;34m\u001b[0m\u001b[0m\n\u001b[0;32m----> 4\u001b[0;31m optimization = NOM(f_type='q',A=np.array([[2, 0.001], [0.001, 8]]), \n\u001b[0m\u001b[1;32m      5\u001b[0m                    b=np.array([0, -1]), c=4, x=x0)\n\u001b[1;32m      6\u001b[0m \u001b[0moptimization\u001b[0m\u001b[0;34m.\u001b[0m\u001b[0mconjugate_directions\u001b[0m\u001b[0;34m(\u001b[0m\u001b[0;34m)\u001b[0m\u001b[0;34m\u001b[0m\u001b[0m\n",
      "\u001b[0;31mNameError\u001b[0m: name 'NOM' is not defined"
     ]
    }
   ],
   "source": [
    "DIM = 2\n",
    "x0 = np.zeros(DIM)\n",
    "x0 = np.array([10,-23])\n",
    "optimization = NOM(f_type='q',A=np.array([[2, 0.001], [0.001, 8]]), \n",
    "                   b=np.array([0, -1]), c=4, x=x0)\n",
    "optimization.conjugate_directions()\n",
    "plt.show()"
   ]
  },
  {
   "cell_type": "markdown",
   "metadata": {},
   "source": [
    "### ЗВИЧАЙНА ФУНКЦІЯ"
   ]
  },
  {
   "cell_type": "code",
   "execution_count": 7,
   "metadata": {
    "collapsed": false
   },
   "outputs": [
    {
     "ename": "NameError",
     "evalue": "name 'NOM' is not defined",
     "output_type": "error",
     "traceback": [
      "\u001b[0;31m---------------------------------------------------------------------------\u001b[0m",
      "\u001b[0;31mNameError\u001b[0m                                 Traceback (most recent call last)",
      "\u001b[0;32m<ipython-input-7-9177683b783b>\u001b[0m in \u001b[0;36m<module>\u001b[0;34m()\u001b[0m\n\u001b[1;32m      1\u001b[0m \u001b[0mx0\u001b[0m \u001b[0;34m=\u001b[0m \u001b[0mnp\u001b[0m\u001b[0;34m.\u001b[0m\u001b[0marray\u001b[0m\u001b[0;34m(\u001b[0m\u001b[0;34m[\u001b[0m\u001b[0;36m1\u001b[0m\u001b[0;34m,\u001b[0m\u001b[0;36m2\u001b[0m\u001b[0;34m]\u001b[0m\u001b[0;34m)\u001b[0m\u001b[0;34m\u001b[0m\u001b[0m\n\u001b[0;32m----> 2\u001b[0;31m \u001b[0moptimization\u001b[0m \u001b[0;34m=\u001b[0m \u001b[0mNOM\u001b[0m\u001b[0;34m(\u001b[0m\u001b[0mf_type\u001b[0m\u001b[0;34m=\u001b[0m\u001b[0;34m'n'\u001b[0m\u001b[0;34m,\u001b[0m\u001b[0mfunc\u001b[0m\u001b[0;34m=\u001b[0m\u001b[0mf_test1\u001b[0m\u001b[0;34m,\u001b[0m \u001b[0mx\u001b[0m\u001b[0;34m=\u001b[0m\u001b[0mx0\u001b[0m\u001b[0;34m)\u001b[0m\u001b[0;34m\u001b[0m\u001b[0m\n\u001b[0m\u001b[1;32m      3\u001b[0m \u001b[0moptimization\u001b[0m\u001b[0;34m.\u001b[0m\u001b[0mconjugate_directions\u001b[0m\u001b[0;34m(\u001b[0m\u001b[0;34m)\u001b[0m\u001b[0;34m\u001b[0m\u001b[0m\n\u001b[1;32m      4\u001b[0m \u001b[0mplt\u001b[0m\u001b[0;34m.\u001b[0m\u001b[0mshow\u001b[0m\u001b[0;34m(\u001b[0m\u001b[0;34m)\u001b[0m\u001b[0;34m\u001b[0m\u001b[0m\n",
      "\u001b[0;31mNameError\u001b[0m: name 'NOM' is not defined"
     ]
    }
   ],
   "source": [
    "x0 = np.array([1,2])\n",
    "optimization = NOM(f_type='n',func=f_test1, x=x0)\n",
    "optimization.conjugate_directions()\n",
    "plt.show()"
   ]
  },
  {
   "cell_type": "code",
   "execution_count": 8,
   "metadata": {
    "collapsed": false
   },
   "outputs": [],
   "source": [
    "### TARGET FUNCTIONS \n",
    "def f_test1(x):\n",
    "    # The true solution of the problem is (1, 0)\n",
    "    # The value of function in this point is 0\n",
    "    DIM = 2\n",
    "    return x[0]**4 + x[1]**4 + 2 * x[0]**2 * x[1]**2 - 4 * x[0] + 3\n",
    "\n",
    "def f_test2(x):\n",
    "    # The true solution of the problem is (2.39395,2.39395)\n",
    "    # The value of function in this point is 5.10682\n",
    "    DIM = 2\n",
    "    return (x[0]**2 + x[1]**2 - 11)**2 +(x[0] + x[1] - 7)**2\n",
    "\n",
    "def f_test3(x):\n",
    "    # The true solution of the problem is (5, 3)\n",
    "    # The value of function in this point is 0\n",
    "    DIM = 2\n",
    "    return ((x[0]**2 + 12 * x[1]**2 - 1)**2 + \n",
    "            (49 * x[0]**2 + 49 * x[1]**2 + 84 * x[0] + 232 * x[1] - 681)**2)\n",
    "\n",
    "def f_test4(x):\n",
    "    # The true solution of the problem is (5, 3)\n",
    "    # The value of function in this point is 0\n",
    "    DIM = 2\n",
    "    return 4 * (x[0] - 5)**2 + (2 * x[1] - 6)**2\n",
    "\n",
    "def f_test5(x):\n",
    "    # The true solution of the problem is (1, 1)\n",
    "    # The value of function in this point is -1\n",
    "    DIM = 2\n",
    "    return x[0]**3 + x[1]**2 - 3 * x[0] - 2 * x[1] + 2\n",
    "\n",
    "def f_myvar(x):  \n",
    "    # The true solution of the problem is (-0.0000625,  0.1250000)\n",
    "    # The value of function in this point is  2.5626251\n",
    "    DIM = 2\n",
    "    return x[0]**2 + 4.0 * x[1]**2 + 0.001 * x[0] * x[1] - x[1]  \n",
    "\n",
    "def f_Rosenbrock(x):\n",
    "    # The true solution of the problem is (1, 1)\n",
    "    # The value of function in this point is 0\n",
    "    DIM = 2\n",
    "    return 100.0 * (x[1] - x[0]**2)**2 + (1.0 - x[0])**2 "
   ]
  },
  {
   "cell_type": "code",
   "execution_count": null,
   "metadata": {
    "collapsed": true
   },
   "outputs": [],
   "source": []
  }
 ],
 "metadata": {
  "kernelspec": {
   "display_name": "Python 3",
   "language": "python",
   "name": "python3"
  },
  "language_info": {
   "codemirror_mode": {
    "name": "ipython",
    "version": 3
   },
   "file_extension": ".py",
   "mimetype": "text/x-python",
   "name": "python",
   "nbconvert_exporter": "python",
   "pygments_lexer": "ipython3",
   "version": "3.6.0"
  }
 },
 "nbformat": 4,
 "nbformat_minor": 2
}
